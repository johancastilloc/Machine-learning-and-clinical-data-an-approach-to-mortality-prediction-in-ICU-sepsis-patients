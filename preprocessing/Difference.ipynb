{
 "cells": [
  {
   "cell_type": "markdown",
   "metadata": {},
   "source": [
    "## Libraries"
   ]
  },
  {
   "cell_type": "code",
   "execution_count": 1,
   "metadata": {},
   "outputs": [],
   "source": [
    "import pandas as pd\n",
    "import numpy as np\n",
    "import os\n",
    "# change the working directory to the parent directory\n",
    "current_dir = os.path.abspath(os.getcwd())\n",
    "\n",
    "parent_dir = os.path.abspath(os.path.join(current_dir, '..'))\n",
    "os.chdir(parent_dir)"
   ]
  },
  {
   "cell_type": "markdown",
   "metadata": {},
   "source": [
    "## Load data"
   ]
  },
  {
   "cell_type": "code",
   "execution_count": 2,
   "metadata": {},
   "outputs": [],
   "source": [
    "df1 = pd.read_csv('datapre/eicu/sinflag_eICU_24_48.csv')\n",
    "df2 = pd.read_csv('datapre/mimic/sinflag_mimic_24_48.csv')\n",
    "df3 = pd.read_csv('datapre/eicu/sinflag_eICU_12_36.csv')\n",
    "df4 = pd.read_csv('datapre/mimic/sinflag_mimic_12_36.csv')\n",
    "df5 = pd.read_csv('datapre/eicu/sinflag_eICU_48_72.csv')\n",
    "df6 = pd.read_csv('datapre/mimic/sinflag_mimic_48_72.csv')"
   ]
  },
  {
   "cell_type": "markdown",
   "metadata": {},
   "source": [
    "## Difference of columns between databases"
   ]
  },
  {
   "cell_type": "code",
   "execution_count": 3,
   "metadata": {},
   "outputs": [
    {
     "name": "stdout",
     "output_type": "stream",
     "text": [
      "Index(['aniongap_max', 'aniongap_min', 'milrinone'], dtype='object')\n"
     ]
    }
   ],
   "source": [
    "columns_diff = df2.columns.difference(df1.columns)\n",
    "print(columns_diff)"
   ]
  },
  {
   "cell_type": "code",
   "execution_count": 4,
   "metadata": {},
   "outputs": [
    {
     "name": "stdout",
     "output_type": "stream",
     "text": [
      "Index(['aniongap_max', 'aniongap_min', 'milrinone'], dtype='object')\n"
     ]
    }
   ],
   "source": [
    "columns_diff2 = df4.columns.difference(df3.columns)\n",
    "print(columns_diff2)"
   ]
  },
  {
   "cell_type": "code",
   "execution_count": 5,
   "metadata": {},
   "outputs": [
    {
     "name": "stdout",
     "output_type": "stream",
     "text": [
      "Index(['aniongap_max', 'aniongap_min'], dtype='object')\n"
     ]
    }
   ],
   "source": [
    "columns_diff3 = df6.columns.difference(df5.columns)\n",
    "print(columns_diff3)"
   ]
  },
  {
   "cell_type": "code",
   "execution_count": 6,
   "metadata": {},
   "outputs": [
    {
     "name": "stdout",
     "output_type": "stream",
     "text": [
      "{'aniongap_min', 'aniongap_max', 'milrinone'}\n"
     ]
    }
   ],
   "source": [
    "# Combine all differences and extract unique ones\n",
    "all_diffs = set(columns_diff).union(set(columns_diff2)).union(set(columns_diff3))\n",
    "print(all_diffs)"
   ]
  },
  {
   "cell_type": "markdown",
   "metadata": {},
   "source": [
    "## Elimination "
   ]
  },
  {
   "cell_type": "code",
   "execution_count": 7,
   "metadata": {},
   "outputs": [],
   "source": [
    "df1 = df1.drop(columns=all_diffs, errors='ignore')\n",
    "df2 = df2.drop(columns=all_diffs, errors='ignore')\n",
    "df3 = df3.drop(columns=all_diffs, errors='ignore')\n",
    "df4 = df4.drop(columns=all_diffs, errors='ignore')\n",
    "df5 = df5.drop(columns=all_diffs, errors='ignore')\n",
    "df6 = df6.drop(columns=all_diffs, errors='ignore')\n",
    "\n",
    "\n"
   ]
  },
  {
   "cell_type": "code",
   "execution_count": 8,
   "metadata": {},
   "outputs": [
    {
     "name": "stdout",
     "output_type": "stream",
     "text": [
      "All DataFrames have the same columns.\n",
      "Number of columns: 68\n",
      "List of columns: ['resp_rate_max', 'potassium_min', 'norepinephrine', 'mbp_min', 'gcs_min', 'resp_rate_min', 'creatinine_min', 'dbp_max', 'sbp_min', 'hematocrit_max', 'sex', 'bicarbonate_min', 'chloride_max', 'Meropenem', 'mbp_max', 'gcs_eyes', 'bun_max', 'bicarbonate_max', 'glucose_max', 'vasopressin', 'los_icu', 'urineoutput', 'Vancomycin', 'calcium_max', 'heart_rate_mean', 'sodium_min', 'hemoglobin_min', 'spo2_mean', 'hematocrit_min', 'platelet_max', 'sbp_mean', 'sodium_max', 'wbc_min', 'heart_rate_min', 'temperature_max', 'epinephrine', 'phenylephrine', 'heart_rate_max', 'sbp_max', 'gcs_motor', 'race', 'resp_rate_mean', 'gcs_verbal', 'Metronidazole', 'mbp_mean', 'temperature_min', 'age', 'platelet_min', 'calcium_min', 'potassium_max', 'glucose_min', 'dobutamine', 'wbc_max', 'Quinolone', 'Macrolide', 'bun_min', 'dopamine', 'spo2_max', 'Cefalosporine', 'chloride_min', 'temperature_mean', 'Penicillin', 'sofa', 'spo2_min', 'dbp_min', 'dbp_mean', 'creatinine_max', 'hemoglobin_max']\n"
     ]
    }
   ],
   "source": [
    "# Verify if all DataFrames have the same columns\n",
    "dataframes = [df1, df2, df3, df4, df5, df6]\n",
    "column_sets = [set(df.columns) for df in dataframes]\n",
    "\n",
    "# Check if all sets of columns are identical\n",
    "columns_match = all(column_sets[0] == column_set for column_set in column_sets)\n",
    "\n",
    "if columns_match:\n",
    "    print(\"All DataFrames have the same columns.\")\n",
    "    print(\"Number of columns:\", len(column_sets[0]))\n",
    "    print(\"List of columns:\", list(column_sets[0]))\n",
    "else:\n",
    "    print(\"The DataFrames do not have the same columns.\")\n",
    "    for i, col_set in enumerate(column_sets):\n",
    "        print(f\"DataFrame {i+1} - Number of columns: {len(col_set)}\")\n",
    "        print(f\"List of columns: {sorted(col_set)}\")\n",
    "\n",
    "    # Identify specific column differences between DataFrames\n",
    "    unique_columns = [col_set - column_sets[0] for col_set in column_sets[1:]]\n",
    "    for i, diff in enumerate(unique_columns, start=2):\n",
    "        if diff:\n",
    "            print(f\"Differences in DataFrame {i} compared to the first: {sorted(diff)}\")\n",
    "\n"
   ]
  },
  {
   "cell_type": "code",
   "execution_count": null,
   "metadata": {},
   "outputs": [],
   "source": [
    "df1.to_csv('datapre/eicu/ssinflag_eICU_24_48.csv', index=False)\n",
    "df2.to_csv('datapre/mimic/ssinflag_mimic_24_48.csv', index=False)\n",
    "df3.to_csv('datapre/eicu/ssinflag_eICU_12_36.csv', index=False)\n",
    "df4.to_csv('datapre/mimic/ssinflag_mimic_12_36.csv', index=False)\n",
    "df5.to_csv('datapre/eicu/ssinflag_eICU_48_72.csv', index=False)\n",
    "df6.to_csv('datapre/mimic/ssinflag_mimic_48_72.csv', index=False)"
   ]
  },
  {
   "cell_type": "code",
   "execution_count": 10,
   "metadata": {},
   "outputs": [
    {
     "name": "stdout",
     "output_type": "stream",
     "text": [
      "<class 'pandas.core.frame.DataFrame'>\n",
      "RangeIndex: 3786 entries, 0 to 3785\n",
      "Data columns (total 68 columns):\n",
      " #   Column            Non-Null Count  Dtype  \n",
      "---  ------            --------------  -----  \n",
      " 0   age               3786 non-null   int64  \n",
      " 1   sex               3786 non-null   int64  \n",
      " 2   race              3786 non-null   int64  \n",
      " 3   los_icu           3786 non-null   float64\n",
      " 4   temperature_max   3429 non-null   float64\n",
      " 5   temperature_min   3429 non-null   float64\n",
      " 6   temperature_mean  3429 non-null   float64\n",
      " 7   spo2_max          3770 non-null   float64\n",
      " 8   spo2_min          3770 non-null   float64\n",
      " 9   spo2_mean         3770 non-null   float64\n",
      " 10  heart_rate_max    3772 non-null   float64\n",
      " 11  heart_rate_min    3772 non-null   float64\n",
      " 12  heart_rate_mean   3772 non-null   float64\n",
      " 13  resp_rate_max     3741 non-null   float64\n",
      " 14  resp_rate_min     3741 non-null   float64\n",
      " 15  resp_rate_mean    3741 non-null   float64\n",
      " 16  sbp_max           3401 non-null   float64\n",
      " 17  sbp_min           3401 non-null   float64\n",
      " 18  sbp_mean          3401 non-null   float64\n",
      " 19  dbp_max           3401 non-null   float64\n",
      " 20  dbp_min           3401 non-null   float64\n",
      " 21  dbp_mean          3401 non-null   float64\n",
      " 22  mbp_max           3239 non-null   float64\n",
      " 23  mbp_min           3239 non-null   float64\n",
      " 24  mbp_mean          3239 non-null   float64\n",
      " 25  bicarbonate_min   3307 non-null   float64\n",
      " 26  bicarbonate_max   3307 non-null   float64\n",
      " 27  creatinine_min    3511 non-null   float64\n",
      " 28  creatinine_max    3511 non-null   float64\n",
      " 29  chloride_min      3519 non-null   float64\n",
      " 30  chloride_max      3519 non-null   float64\n",
      " 31  glucose_min       3488 non-null   float64\n",
      " 32  glucose_max       3488 non-null   float64\n",
      " 33  hematocrit_min    3392 non-null   float64\n",
      " 34  hematocrit_max    3392 non-null   float64\n",
      " 35  hemoglobin_min    3395 non-null   float64\n",
      " 36  hemoglobin_max    3395 non-null   float64\n",
      " 37  platelet_min      3366 non-null   float64\n",
      " 38  platelet_max      3366 non-null   float64\n",
      " 39  potassium_min     3560 non-null   float64\n",
      " 40  potassium_max     3560 non-null   float64\n",
      " 41  sodium_min        3522 non-null   float64\n",
      " 42  sodium_max        3522 non-null   float64\n",
      " 43  bun_min           3512 non-null   float64\n",
      " 44  bun_max           3512 non-null   float64\n",
      " 45  wbc_min           3377 non-null   float64\n",
      " 46  wbc_max           3377 non-null   float64\n",
      " 47  calcium_min       3489 non-null   float64\n",
      " 48  calcium_max       3489 non-null   float64\n",
      " 49  norepinephrine    3786 non-null   float64\n",
      " 50  epinephrine       3786 non-null   float64\n",
      " 51  dopamine          3786 non-null   float64\n",
      " 52  dobutamine        3786 non-null   float64\n",
      " 53  phenylephrine     3786 non-null   float64\n",
      " 54  vasopressin       3786 non-null   float64\n",
      " 55  Cefalosporine     3786 non-null   float64\n",
      " 56  Penicillin        3786 non-null   float64\n",
      " 57  Macrolide         3786 non-null   float64\n",
      " 58  Meropenem         3786 non-null   float64\n",
      " 59  Metronidazole     3786 non-null   float64\n",
      " 60  Quinolone         3786 non-null   float64\n",
      " 61  Vancomycin        3786 non-null   float64\n",
      " 62  gcs_min           2827 non-null   float64\n",
      " 63  gcs_motor         2036 non-null   float64\n",
      " 64  gcs_verbal        2025 non-null   float64\n",
      " 65  gcs_eyes          2036 non-null   float64\n",
      " 66  urineoutput       2164 non-null   float64\n",
      " 67  sofa              3786 non-null   int64  \n",
      "dtypes: float64(64), int64(4)\n",
      "memory usage: 2.0 MB\n",
      "None\n"
     ]
    }
   ],
   "source": [
    "print(df1.info())"
   ]
  }
 ],
 "metadata": {
  "kernelspec": {
   "display_name": "Python 3",
   "language": "python",
   "name": "python3"
  },
  "language_info": {
   "codemirror_mode": {
    "name": "ipython",
    "version": 3
   },
   "file_extension": ".py",
   "mimetype": "text/x-python",
   "name": "python",
   "nbconvert_exporter": "python",
   "pygments_lexer": "ipython3",
   "version": "3.12.4"
  }
 },
 "nbformat": 4,
 "nbformat_minor": 2
}
