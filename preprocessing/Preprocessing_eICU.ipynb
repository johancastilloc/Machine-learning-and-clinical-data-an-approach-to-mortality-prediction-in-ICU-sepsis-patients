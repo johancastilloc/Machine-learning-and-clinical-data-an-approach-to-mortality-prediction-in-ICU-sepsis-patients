{
 "cells": [
  {
   "cell_type": "markdown",
   "metadata": {},
   "source": [
    "## Libraries "
   ]
  },
  {
   "cell_type": "code",
   "execution_count": 1,
   "metadata": {},
   "outputs": [],
   "source": [
    "import pandas as pd\n",
    "import numpy as np\n",
    "import os\n",
    "# change the working directory to the parent directory\n",
    "current_dir = os.path.abspath(os.getcwd())\n",
    "\n",
    "parent_dir = os.path.abspath(os.path.join(current_dir, '..'))\n",
    "os.chdir(parent_dir)"
   ]
  },
  {
   "cell_type": "markdown",
   "metadata": {},
   "source": [
    "## Loading data from the eICU dataset"
   ]
  },
  {
   "cell_type": "markdown",
   "metadata": {},
   "source": [
    "Preprocessing can be performed in the same way for data intended for 12-, 24-, and 48-hour predictions. The data cleaning and transformation steps are identical in each case, meaning that only the file paths need to be adjusted for each time-based dataset. Once the paths are updated, the preprocessing process automatically adapts without requiring additional modifications, ensuring an efficient and consistent workflow."
   ]
  },
  {
   "cell_type": "code",
   "execution_count": 2,
   "metadata": {},
   "outputs": [],
   "source": [
    "data_test = pd.read_csv(\"Data_johan/eicu/48h_24h/demograficos.csv\" )\n",
    "data_test1 = pd.read_csv(\"Data_johan/eicu/48h_24h/vitalsigns.csv\" )\n",
    "data_test2 = pd.read_csv(\"Data_johan/eicu/48h_24h/lab.csv\" )\n",
    "data_test3 = pd.read_csv(\"Data_johan/eicu/48h_24h/vasopresores.csv\" )\n",
    "data_test4 = pd.read_csv(\"Data_johan/eicu/48h_24h/antibioticos.csv\" )\n",
    "data_test5 = pd.read_csv(\"Data_johan/eicu/48h_24h/gcs.csv\" )\n",
    "data_test6 = pd.read_csv(\"Data_johan/eicu/48h_24h/urineoutput.csv\" )\n",
    "data_test7 = pd.read_csv(\"Data_johan/eicu/48h_24h/sofa.csv\" )\n",
    "data_test8 = pd.read_csv('datapre/eicu/conflag_eICU_48_72.csv')"
   ]
  },
  {
   "cell_type": "markdown",
   "metadata": {},
   "source": [
    "## Reviewing demographic data from the eICU dataset"
   ]
  },
  {
   "cell_type": "code",
   "execution_count": 3,
   "metadata": {},
   "outputs": [
    {
     "name": "stdout",
     "output_type": "stream",
     "text": [
      "   patientunitstayid age  gender  ethnicity  icu_los_hours  \\\n",
      "0             224606  76       0  Caucasian             69   \n",
      "1             151900  66       0  Caucasian             57   \n",
      "2             197921  67       0  Caucasian             91   \n",
      "3             145917  53       1      Asian             77   \n",
      "4             210208  52       1      Asian             91   \n",
      "\n",
      "   hospital_expire_flag  \n",
      "0                     0  \n",
      "1                     0  \n",
      "2                     0  \n",
      "3                     0  \n",
      "4                     0  \n"
     ]
    }
   ],
   "source": [
    "print(data_test.head())"
   ]
  },
  {
   "cell_type": "code",
   "execution_count": 4,
   "metadata": {},
   "outputs": [
    {
     "name": "stdout",
     "output_type": "stream",
     "text": [
      "<class 'pandas.core.frame.DataFrame'>\n",
      "RangeIndex: 5553 entries, 0 to 5552\n",
      "Data columns (total 6 columns):\n",
      " #   Column                Non-Null Count  Dtype \n",
      "---  ------                --------------  ----- \n",
      " 0   patientunitstayid     5553 non-null   int64 \n",
      " 1   age                   5553 non-null   object\n",
      " 2   gender                5553 non-null   int64 \n",
      " 3   ethnicity             5521 non-null   object\n",
      " 4   icu_los_hours         5553 non-null   int64 \n",
      " 5   hospital_expire_flag  5553 non-null   int64 \n",
      "dtypes: int64(4), object(2)\n",
      "memory usage: 260.4+ KB\n",
      "None\n"
     ]
    }
   ],
   "source": [
    "print(data_test.info())"
   ]
  },
  {
   "cell_type": "code",
   "execution_count": 5,
   "metadata": {},
   "outputs": [
    {
     "name": "stdout",
     "output_type": "stream",
     "text": [
      "       patientunitstayid       gender  icu_los_hours  hospital_expire_flag\n",
      "count       5.553000e+03  5553.000000    5553.000000           5553.000000\n",
      "mean        1.736428e+06     0.510895     145.492346              0.110751\n",
      "std         1.040834e+06     0.499926     207.482509              0.313852\n",
      "min         1.413040e+05     0.000000      48.000000              0.000000\n",
      "25%         7.549710e+05     0.000000      67.000000              0.000000\n",
      "50%         1.710390e+06     1.000000      94.000000              0.000000\n",
      "75%         2.791676e+06     1.000000     165.000000              0.000000\n",
      "max         3.352922e+06     1.000000    8299.000000              1.000000\n"
     ]
    }
   ],
   "source": [
    "print(data_test.describe())"
   ]
  },
  {
   "cell_type": "markdown",
   "metadata": {},
   "source": [
    "## Data treatment for the age column"
   ]
  },
  {
   "cell_type": "code",
   "execution_count": 6,
   "metadata": {},
   "outputs": [
    {
     "name": "stdout",
     "output_type": "stream",
     "text": [
      "8       > 89\n",
      "10      > 89\n",
      "33      > 89\n",
      "35      > 89\n",
      "41      > 89\n",
      "        ... \n",
      "5306    > 89\n",
      "5438    > 89\n",
      "5505    > 89\n",
      "5508    > 89\n",
      "5546    > 89\n",
      "Name: age, Length: 251, dtype: object\n"
     ]
    }
   ],
   "source": [
    "# Filter values in 'age' that cannot be converted to numbers\n",
    "problematic_values = data_test[~data_test['age'].str.isnumeric()]\n",
    "print(problematic_values['age'])\n"
   ]
  },
  {
   "cell_type": "code",
   "execution_count": 7,
   "metadata": {},
   "outputs": [],
   "source": [
    "# Replace values '> 89' with 90 in the 'age' column\n",
    "data_test['age'] = data_test['age'].replace('> 89', '90')\n",
    "\n",
    "# Convert the 'age' column to a numeric type\n",
    "data_test['age'] = pd.to_numeric(data_test['age'], errors='coerce')\n",
    "\n"
   ]
  },
  {
   "cell_type": "code",
   "execution_count": 8,
   "metadata": {},
   "outputs": [
    {
     "name": "stdout",
     "output_type": "stream",
     "text": [
      "<class 'pandas.core.frame.DataFrame'>\n",
      "RangeIndex: 5553 entries, 0 to 5552\n",
      "Data columns (total 6 columns):\n",
      " #   Column                Non-Null Count  Dtype \n",
      "---  ------                --------------  ----- \n",
      " 0   patientunitstayid     5553 non-null   int64 \n",
      " 1   age                   5553 non-null   int64 \n",
      " 2   gender                5553 non-null   int64 \n",
      " 3   ethnicity             5521 non-null   object\n",
      " 4   icu_los_hours         5553 non-null   int64 \n",
      " 5   hospital_expire_flag  5553 non-null   int64 \n",
      "dtypes: int64(5), object(1)\n",
      "memory usage: 260.4+ KB\n",
      "None\n"
     ]
    }
   ],
   "source": [
    "print(data_test.info())"
   ]
  },
  {
   "cell_type": "markdown",
   "metadata": {},
   "source": [
    "## Data treatment for the ethnicity column"
   ]
  },
  {
   "cell_type": "code",
   "execution_count": 9,
   "metadata": {},
   "outputs": [
    {
     "name": "stdout",
     "output_type": "stream",
     "text": [
      "['Caucasian' 'Asian' 'African American' 'Hispanic' 'Native American' nan\n",
      " 'Other/Unknown']\n"
     ]
    }
   ],
   "source": [
    "# Display unique values in the 'ethnicity' column\n",
    "print(data_test['ethnicity'].unique())\n",
    "\n"
   ]
  },
  {
   "cell_type": "code",
   "execution_count": 10,
   "metadata": {},
   "outputs": [
    {
     "name": "stderr",
     "output_type": "stream",
     "text": [
      "C:\\Users\\JOHAN\\AppData\\Local\\Temp\\ipykernel_2076\\3784381758.py:13: FutureWarning: Downcasting behavior in `replace` is deprecated and will be removed in a future version. To retain the old behavior, explicitly call `result.infer_objects(copy=False)`. To opt-in to the future behavior, set `pd.set_option('future.no_silent_downcasting', True)`\n",
      "  data_test['ethnicity'] = data_test['ethnicity'].replace(ethnicity_mapping)\n"
     ]
    }
   ],
   "source": [
    "# Define a mapping for the ethnicity values\n",
    "ethnicity_mapping = {\n",
    "    'Caucasian': 0,\n",
    "    'Asian': 1,\n",
    "    'African American': 2,\n",
    "    'Hispanic': 3,\n",
    "    'Native American': 4,\n",
    "    'Other/Unknown': 5,\n",
    "    np.nan: 5  # Replace NaN with 5\n",
    "}\n",
    "\n",
    "# Replace values in the 'ethnicity' column using the mapping\n",
    "data_test['ethnicity'] = data_test['ethnicity'].replace(ethnicity_mapping)"
   ]
  },
  {
   "cell_type": "code",
   "execution_count": 11,
   "metadata": {},
   "outputs": [
    {
     "name": "stdout",
     "output_type": "stream",
     "text": [
      "<class 'pandas.core.frame.DataFrame'>\n",
      "RangeIndex: 5553 entries, 0 to 5552\n",
      "Data columns (total 6 columns):\n",
      " #   Column                Non-Null Count  Dtype  \n",
      "---  ------                --------------  -----  \n",
      " 0   patientunitstayid     5553 non-null   int64  \n",
      " 1   age                   5553 non-null   int64  \n",
      " 2   gender                5553 non-null   int64  \n",
      " 3   ethnicity             5553 non-null   float64\n",
      " 4   icu_los_hours         5553 non-null   int64  \n",
      " 5   hospital_expire_flag  5553 non-null   int64  \n",
      "dtypes: float64(1), int64(5)\n",
      "memory usage: 260.4 KB\n",
      "None\n"
     ]
    }
   ],
   "source": [
    "print(data_test.info())"
   ]
  },
  {
   "cell_type": "markdown",
   "metadata": {},
   "source": [
    "## Renaming columns and adjusting data types"
   ]
  },
  {
   "cell_type": "code",
   "execution_count": 12,
   "metadata": {},
   "outputs": [],
   "source": [
    "# Renaming columns\n",
    "data_test = data_test.rename(columns={\n",
    "    'gender': 'sex',\n",
    "    'ethnicity': 'race',\n",
    "    'icu_los_hours': 'los_icu'\n",
    "})\n",
    "\n",
    "# Changing the data types\n",
    "data_test['sex'] = data_test['sex'].astype('int64')  # Ensure 'sex' is of type int64\n",
    "data_test['race'] = data_test['race'].astype('int64')  # Ensure 'race' is of type int64\n",
    "data_test['los_icu'] = data_test['los_icu'].astype('float64')  # Ensure 'los_icu' is of type float64\n",
    "data_test['los_icu'] = data_test['los_icu'] / 24\n"
   ]
  },
  {
   "cell_type": "code",
   "execution_count": 14,
   "metadata": {},
   "outputs": [
    {
     "name": "stdout",
     "output_type": "stream",
     "text": [
      "<class 'pandas.core.frame.DataFrame'>\n",
      "RangeIndex: 3786 entries, 0 to 3785\n",
      "Data columns (total 6 columns):\n",
      " #   Column                Non-Null Count  Dtype  \n",
      "---  ------                --------------  -----  \n",
      " 0   patientunitstayid     3786 non-null   int64  \n",
      " 1   age                   3786 non-null   int64  \n",
      " 2   sex                   3786 non-null   int64  \n",
      " 3   race                  3786 non-null   int64  \n",
      " 4   los_icu               3786 non-null   float64\n",
      " 5   hospital_expire_flag  3786 non-null   int64  \n",
      "dtypes: float64(1), int64(5)\n",
      "memory usage: 177.6 KB\n",
      "None\n"
     ]
    }
   ],
   "source": [
    "data_test = data_test.merge(data_test8[['patientunitstayid']], on=['patientunitstayid'], how='inner')\n",
    "print(data_test.info())"
   ]
  },
  {
   "cell_type": "markdown",
   "metadata": {},
   "source": [
    "## Reviewing vital signs data from the eICU dataset"
   ]
  },
  {
   "cell_type": "code",
   "execution_count": 16,
   "metadata": {},
   "outputs": [
    {
     "name": "stdout",
     "output_type": "stream",
     "text": [
      "   patientunitstayid  max_temperature  min_temperature  avg_temperature  \\\n",
      "0             141304             36.7             36.1        36.483333   \n",
      "1             141751             37.6             36.3        36.803497   \n",
      "2             141920             37.7             36.6        37.133333   \n",
      "3             141945             36.7             36.5        36.660000   \n",
      "4             141959             37.2             36.1        36.620000   \n",
      "\n",
      "   max_spo2  min_spo2   avg_spo2  max_heartrate  min_heartrate  avg_heartrate  \\\n",
      "0      97.0      83.0  93.740385          114.0           76.0      84.834951   \n",
      "1     100.0      96.0  98.710345          119.0           81.0      93.031579   \n",
      "2     100.0      90.0  96.721713          135.0           66.0      87.330275   \n",
      "3     100.0      79.0  96.021277           96.0           69.0      78.905229   \n",
      "4     100.0      91.0  97.628866           98.0           58.0      75.941581   \n",
      "\n",
      "   ...  avg_resp_rate  max_sbp  min_sbp     avg_sbp  max_dbp  min_dbp  \\\n",
      "0  ...      17.278317    180.0    125.0  158.227273     88.0     62.0   \n",
      "1  ...      17.940351    158.0     97.0  119.656000     89.0     54.0   \n",
      "2  ...      26.403670    142.0     97.0  113.307692     80.0     47.0   \n",
      "3  ...      20.689542    107.0     83.0   99.809524     66.0     44.0   \n",
      "4  ...      18.000000    249.0    116.0  156.502203     90.0     46.0   \n",
      "\n",
      "     avg_dbp  max_mbp  min_mbp     avg_mbp  \n",
      "0  73.500000      NaN      NaN         NaN  \n",
      "1  68.896000    122.0     71.0   91.157676  \n",
      "2  56.192308      NaN      NaN         NaN  \n",
      "3  57.190476      NaN      NaN         NaN  \n",
      "4  68.443946    135.0     72.0  105.112613  \n",
      "\n",
      "[5 rows x 22 columns]\n"
     ]
    }
   ],
   "source": [
    "print(data_test1.head())"
   ]
  },
  {
   "cell_type": "code",
   "execution_count": 19,
   "metadata": {},
   "outputs": [
    {
     "name": "stdout",
     "output_type": "stream",
     "text": [
      "<class 'pandas.core.frame.DataFrame'>\n",
      "RangeIndex: 5553 entries, 0 to 5552\n",
      "Data columns (total 22 columns):\n",
      " #   Column             Non-Null Count  Dtype  \n",
      "---  ------             --------------  -----  \n",
      " 0   patientunitstayid  5553 non-null   int64  \n",
      " 1   max_temperature    5079 non-null   float64\n",
      " 2   min_temperature    5079 non-null   float64\n",
      " 3   avg_temperature    5079 non-null   float64\n",
      " 4   max_spo2           5526 non-null   float64\n",
      " 5   min_spo2           5526 non-null   float64\n",
      " 6   avg_spo2           5526 non-null   float64\n",
      " 7   max_heartrate      5537 non-null   float64\n",
      " 8   min_heartrate      5537 non-null   float64\n",
      " 9   avg_heartrate      5537 non-null   float64\n",
      " 10  max_resp_rate      5488 non-null   float64\n",
      " 11  min_resp_rate      5488 non-null   float64\n",
      " 12  avg_resp_rate      5488 non-null   float64\n",
      " 13  max_sbp            5009 non-null   float64\n",
      " 14  min_sbp            5009 non-null   float64\n",
      " 15  avg_sbp            5009 non-null   float64\n",
      " 16  max_dbp            5009 non-null   float64\n",
      " 17  min_dbp            5009 non-null   float64\n",
      " 18  avg_dbp            5009 non-null   float64\n",
      " 19  max_mbp            4755 non-null   float64\n",
      " 20  min_mbp            4755 non-null   float64\n",
      " 21  avg_mbp            4755 non-null   float64\n",
      "dtypes: float64(21), int64(1)\n",
      "memory usage: 954.6 KB\n",
      "None\n"
     ]
    }
   ],
   "source": [
    "print(data_test1.info())"
   ]
  },
  {
   "cell_type": "code",
   "execution_count": 18,
   "metadata": {},
   "outputs": [
    {
     "name": "stdout",
     "output_type": "stream",
     "text": [
      "       patientunitstayid  max_temperature  min_temperature  avg_temperature  \\\n",
      "count       5.553000e+03      5079.000000      5079.000000      5079.000000   \n",
      "mean        1.736428e+06        37.332704        36.241549        36.883687   \n",
      "std         1.040834e+06         0.747550         1.807506         0.631605   \n",
      "min         1.413040e+05        22.300000         1.200000        21.730588   \n",
      "25%         7.549710e+05        36.900000        36.200000        36.576000   \n",
      "50%         1.710390e+06        37.200000        36.500000        36.834014   \n",
      "75%         2.791676e+06        37.700000        36.800000        37.180000   \n",
      "max         3.352922e+06        41.200000        39.400000        39.605556   \n",
      "\n",
      "          max_spo2     min_spo2     avg_spo2  max_heartrate  min_heartrate  \\\n",
      "count  5526.000000  5526.000000  5526.000000    5537.000000    5537.000000   \n",
      "mean     99.600253    84.979370    96.601417     112.478418      73.290410   \n",
      "std       0.982375    12.308461     2.410420      21.633849      16.047026   \n",
      "min      83.000000     1.000000    67.804124      51.000000       1.000000   \n",
      "25%     100.000000    82.000000    95.300806      98.000000      63.000000   \n",
      "50%     100.000000    88.000000    96.838889     111.000000      73.000000   \n",
      "75%     100.000000    92.000000    98.331770     125.000000      84.000000   \n",
      "max     100.000000   100.000000   100.000000     248.000000     131.000000   \n",
      "\n",
      "       avg_heartrate  ...  avg_resp_rate      max_sbp      min_sbp  \\\n",
      "count    5537.000000  ...    5488.000000  5009.000000  5009.000000   \n",
      "mean       89.161811  ...      21.139488   148.178678    96.066281   \n",
      "std        15.952669  ...       5.021158    26.748015    21.634535   \n",
      "min        35.451389  ...       7.646465    74.000000     1.000000   \n",
      "25%        77.748252  ...      17.638262   129.000000    83.000000   \n",
      "50%        88.689103  ...      20.479938   146.000000    94.000000   \n",
      "75%        99.681672  ...      23.982392   164.000000   109.000000   \n",
      "max       162.965278  ...      62.574627   299.000000   189.000000   \n",
      "\n",
      "           avg_sbp      max_dbp      min_dbp      avg_dbp      max_mbp  \\\n",
      "count  5009.000000  5009.000000  5009.000000  5009.000000  4755.000000   \n",
      "mean    120.882782    87.803154    49.122979    64.188428   101.808973   \n",
      "std      18.660988    22.046630    13.519409    11.825304    18.651157   \n",
      "min      30.289474    31.000000     1.000000    16.715789    45.000000   \n",
      "25%     107.000000    73.000000    41.000000    55.906250    88.000000   \n",
      "50%     118.036269    85.000000    48.000000    63.071429   100.000000   \n",
      "75%     133.000000    98.000000    57.000000    71.333333   113.000000   \n",
      "max     209.712042   199.000000   112.000000   133.000000   149.000000   \n",
      "\n",
      "           min_mbp      avg_mbp  \n",
      "count  4755.000000  4755.000000  \n",
      "mean     62.946933    79.930278  \n",
      "std      16.232232    12.889361  \n",
      "min       1.000000    38.000000  \n",
      "25%      53.000000    70.653589  \n",
      "50%      62.000000    78.181818  \n",
      "75%      73.000000    87.739130  \n",
      "max     126.000000   133.500000  \n",
      "\n",
      "[8 rows x 22 columns]\n"
     ]
    }
   ],
   "source": [
    "print(data_test1.describe())"
   ]
  },
  {
   "cell_type": "markdown",
   "metadata": {},
   "source": [
    "## Renaming columns "
   ]
  },
  {
   "cell_type": "code",
   "execution_count": 20,
   "metadata": {},
   "outputs": [],
   "source": [
    "# Define a mapping for the column renaming\n",
    "column_mapping = {\n",
    "    'min_heartrate': 'heart_rate_min',\n",
    "    'max_heartrate': 'heart_rate_max',\n",
    "    'avg_heartrate': 'heart_rate_mean',\n",
    "    'min_sbp': 'sbp_min',\n",
    "    'max_sbp': 'sbp_max',\n",
    "    'avg_sbp': 'sbp_mean',\n",
    "    'min_dbp': 'dbp_min',\n",
    "    'max_dbp': 'dbp_max',\n",
    "    'avg_dbp': 'dbp_mean',\n",
    "    'min_mbp': 'mbp_min',\n",
    "    'max_mbp': 'mbp_max',\n",
    "    'avg_mbp': 'mbp_mean',\n",
    "    'min_resp_rate': 'resp_rate_min',\n",
    "    'max_resp_rate': 'resp_rate_max',\n",
    "    'avg_resp_rate': 'resp_rate_mean',\n",
    "    'min_temperature': 'temperature_min',\n",
    "    'max_temperature': 'temperature_max',\n",
    "    'avg_temperature': 'temperature_mean',\n",
    "    'min_spo2': 'spo2_min',\n",
    "    'max_spo2': 'spo2_max',\n",
    "    'avg_spo2': 'spo2_mean'\n",
    "}\n",
    "\n",
    "# Rename the columns\n",
    "data_test1 = data_test1.rename(columns=column_mapping)\n",
    "\n"
   ]
  },
  {
   "cell_type": "code",
   "execution_count": 21,
   "metadata": {},
   "outputs": [
    {
     "name": "stdout",
     "output_type": "stream",
     "text": [
      "<class 'pandas.core.frame.DataFrame'>\n",
      "RangeIndex: 3786 entries, 0 to 3785\n",
      "Data columns (total 22 columns):\n",
      " #   Column             Non-Null Count  Dtype  \n",
      "---  ------             --------------  -----  \n",
      " 0   patientunitstayid  3786 non-null   int64  \n",
      " 1   temperature_max    3429 non-null   float64\n",
      " 2   temperature_min    3429 non-null   float64\n",
      " 3   temperature_mean   3429 non-null   float64\n",
      " 4   spo2_max           3770 non-null   float64\n",
      " 5   spo2_min           3770 non-null   float64\n",
      " 6   spo2_mean          3770 non-null   float64\n",
      " 7   heart_rate_max     3772 non-null   float64\n",
      " 8   heart_rate_min     3772 non-null   float64\n",
      " 9   heart_rate_mean    3772 non-null   float64\n",
      " 10  resp_rate_max      3741 non-null   float64\n",
      " 11  resp_rate_min      3741 non-null   float64\n",
      " 12  resp_rate_mean     3741 non-null   float64\n",
      " 13  sbp_max            3401 non-null   float64\n",
      " 14  sbp_min            3401 non-null   float64\n",
      " 15  sbp_mean           3401 non-null   float64\n",
      " 16  dbp_max            3401 non-null   float64\n",
      " 17  dbp_min            3401 non-null   float64\n",
      " 18  dbp_mean           3401 non-null   float64\n",
      " 19  mbp_max            3239 non-null   float64\n",
      " 20  mbp_min            3239 non-null   float64\n",
      " 21  mbp_mean           3239 non-null   float64\n",
      "dtypes: float64(21), int64(1)\n",
      "memory usage: 650.8 KB\n",
      "None\n"
     ]
    }
   ],
   "source": [
    "data_test1 = data_test1.merge(data_test8[['patientunitstayid']], on=['patientunitstayid'], how='inner')\n",
    "print(data_test1.info())"
   ]
  },
  {
   "cell_type": "markdown",
   "metadata": {},
   "source": [
    "## Removing columns with less than 80% non-null values in a DataFrame"
   ]
  },
  {
   "cell_type": "code",
   "execution_count": 22,
   "metadata": {},
   "outputs": [
    {
     "name": "stdout",
     "output_type": "stream",
     "text": [
      "<class 'pandas.core.frame.DataFrame'>\n",
      "RangeIndex: 3786 entries, 0 to 3785\n",
      "Data columns (total 22 columns):\n",
      " #   Column             Non-Null Count  Dtype  \n",
      "---  ------             --------------  -----  \n",
      " 0   patientunitstayid  3786 non-null   int64  \n",
      " 1   temperature_max    3429 non-null   float64\n",
      " 2   temperature_min    3429 non-null   float64\n",
      " 3   temperature_mean   3429 non-null   float64\n",
      " 4   spo2_max           3770 non-null   float64\n",
      " 5   spo2_min           3770 non-null   float64\n",
      " 6   spo2_mean          3770 non-null   float64\n",
      " 7   heart_rate_max     3772 non-null   float64\n",
      " 8   heart_rate_min     3772 non-null   float64\n",
      " 9   heart_rate_mean    3772 non-null   float64\n",
      " 10  resp_rate_max      3741 non-null   float64\n",
      " 11  resp_rate_min      3741 non-null   float64\n",
      " 12  resp_rate_mean     3741 non-null   float64\n",
      " 13  sbp_max            3401 non-null   float64\n",
      " 14  sbp_min            3401 non-null   float64\n",
      " 15  sbp_mean           3401 non-null   float64\n",
      " 16  dbp_max            3401 non-null   float64\n",
      " 17  dbp_min            3401 non-null   float64\n",
      " 18  dbp_mean           3401 non-null   float64\n",
      " 19  mbp_max            3239 non-null   float64\n",
      " 20  mbp_min            3239 non-null   float64\n",
      " 21  mbp_mean           3239 non-null   float64\n",
      "dtypes: float64(21), int64(1)\n",
      "memory usage: 650.8 KB\n",
      "None\n"
     ]
    }
   ],
   "source": [
    "# Calculate the threshold for non-null values\n",
    "th = 0.80 * len(data_test1)\n",
    "# Remove columns that have fewer than 'threshold' non-null values\n",
    "data_test1 = data_test1.loc[:, data_test1.notnull().sum() >= th]\n",
    "print(data_test1.info())"
   ]
  },
  {
   "cell_type": "markdown",
   "metadata": {},
   "source": [
    "## Reviewing laboratory data from the eICU dataset"
   ]
  },
  {
   "cell_type": "code",
   "execution_count": 23,
   "metadata": {},
   "outputs": [
    {
     "name": "stdout",
     "output_type": "stream",
     "text": [
      "   patientunitstayid  aniongap_min  aniongap_max  albumin_min  albumin_max  \\\n",
      "0             141304          17.0          17.0          NaN          NaN   \n",
      "1             141751          13.0          17.0          1.7          1.7   \n",
      "2             141920          14.0          14.0          2.7          2.7   \n",
      "3             141945          10.0          10.0          NaN          NaN   \n",
      "4             141959          10.0          10.0          NaN          NaN   \n",
      "\n",
      "   bands_min  bands_max  bicarbonate_min  bicarbonate_max  hco3_min  ...  \\\n",
      "0        NaN        NaN             26.0             26.0       NaN  ...   \n",
      "1        NaN        NaN             18.0             21.0       NaN  ...   \n",
      "2        NaN        NaN             24.0             24.0       NaN  ...   \n",
      "3        NaN        NaN             31.0             31.0       NaN  ...   \n",
      "4        1.0        1.0             26.0             26.0      22.0  ...   \n",
      "\n",
      "   pt_min  pt_max  sodium_min  sodium_max  bun_min  bun_max  wbc_min  wbc_max  \\\n",
      "0     NaN     NaN       146.0       146.0     33.0     33.0     13.6     13.6   \n",
      "1     NaN     NaN       141.0       143.0     39.0     40.0     15.3     15.3   \n",
      "2     NaN     NaN       138.0       138.0     34.0     34.0     22.4     22.4   \n",
      "3     NaN     NaN       137.0       137.0     22.0     22.0      9.0      9.0   \n",
      "4     NaN     NaN       142.0       142.0     45.0     45.0      7.0      7.0   \n",
      "\n",
      "   calcium_min  calcium_max  \n",
      "0          8.1          8.1  \n",
      "1          7.5          7.9  \n",
      "2          8.0          8.0  \n",
      "3          8.8          8.8  \n",
      "4          7.8          7.8  \n",
      "\n",
      "[5 rows x 43 columns]\n"
     ]
    }
   ],
   "source": [
    "print(data_test2.head())"
   ]
  },
  {
   "cell_type": "code",
   "execution_count": 24,
   "metadata": {},
   "outputs": [
    {
     "name": "stdout",
     "output_type": "stream",
     "text": [
      "<class 'pandas.core.frame.DataFrame'>\n",
      "RangeIndex: 5553 entries, 0 to 5552\n",
      "Data columns (total 43 columns):\n",
      " #   Column             Non-Null Count  Dtype  \n",
      "---  ------             --------------  -----  \n",
      " 0   patientunitstayid  5553 non-null   int64  \n",
      " 1   aniongap_min       4054 non-null   float64\n",
      " 2   aniongap_max       4054 non-null   float64\n",
      " 3   albumin_min        2863 non-null   float64\n",
      " 4   albumin_max        2863 non-null   float64\n",
      " 5   bands_min          500 non-null    float64\n",
      " 6   bands_max          500 non-null    float64\n",
      " 7   bicarbonate_min    4897 non-null   float64\n",
      " 8   bicarbonate_max    4897 non-null   float64\n",
      " 9   hco3_min           1497 non-null   float64\n",
      " 10  hco3_max           1497 non-null   float64\n",
      " 11  bilirubin_min      2522 non-null   float64\n",
      " 12  bilirubin_max      2522 non-null   float64\n",
      " 13  creatinine_min     5200 non-null   float64\n",
      " 14  creatinine_max     5200 non-null   float64\n",
      " 15  chloride_min       5206 non-null   float64\n",
      " 16  chloride_max       5206 non-null   float64\n",
      " 17  glucose_min        5164 non-null   float64\n",
      " 18  glucose_max        5164 non-null   float64\n",
      " 19  hematocrit_min     5030 non-null   float64\n",
      " 20  hematocrit_max     5030 non-null   float64\n",
      " 21  hemoglobin_min     5035 non-null   float64\n",
      " 22  hemoglobin_max     5035 non-null   float64\n",
      " 23  lactate_min        1116 non-null   float64\n",
      " 24  lactate_max        1116 non-null   float64\n",
      " 25  platelet_min       4991 non-null   float64\n",
      " 26  platelet_max       4991 non-null   float64\n",
      " 27  potassium_min      5258 non-null   float64\n",
      " 28  potassium_max      5258 non-null   float64\n",
      " 29  ptt_min            716 non-null    float64\n",
      " 30  ptt_max            716 non-null    float64\n",
      " 31  inr_min            1513 non-null   float64\n",
      " 32  inr_max            1513 non-null   float64\n",
      " 33  pt_min             1477 non-null   float64\n",
      " 34  pt_max             1477 non-null   float64\n",
      " 35  sodium_min         5211 non-null   float64\n",
      " 36  sodium_max         5211 non-null   float64\n",
      " 37  bun_min            5197 non-null   float64\n",
      " 38  bun_max            5197 non-null   float64\n",
      " 39  wbc_min            5003 non-null   float64\n",
      " 40  wbc_max            5003 non-null   float64\n",
      " 41  calcium_min        5167 non-null   float64\n",
      " 42  calcium_max        5167 non-null   float64\n",
      "dtypes: float64(42), int64(1)\n",
      "memory usage: 1.8 MB\n",
      "None\n"
     ]
    }
   ],
   "source": [
    "print(data_test2.info())"
   ]
  },
  {
   "cell_type": "code",
   "execution_count": 25,
   "metadata": {},
   "outputs": [
    {
     "name": "stdout",
     "output_type": "stream",
     "text": [
      "       patientunitstayid  aniongap_min  aniongap_max  albumin_min  \\\n",
      "count       5.553000e+03   4054.000000   4054.000000  2863.000000   \n",
      "mean        1.736428e+06     10.075925     10.550493     2.323577   \n",
      "std         1.040834e+06      4.162147      4.446670     0.589163   \n",
      "min         1.413040e+05      0.500000      0.500000     0.800000   \n",
      "25%         7.549710e+05      7.000000      7.300000     1.900000   \n",
      "50%         1.710390e+06     10.000000     10.000000     2.300000   \n",
      "75%         2.791676e+06     12.400000     13.000000     2.700000   \n",
      "max         3.352922e+06     37.000000     48.000000     4.600000   \n",
      "\n",
      "       albumin_max   bands_min   bands_max  bicarbonate_min  bicarbonate_max  \\\n",
      "count  2863.000000  500.000000  500.000000      4897.000000      4897.000000   \n",
      "mean      2.343591    9.709380   10.441380        24.276455        24.769308   \n",
      "std       0.596671   10.489606   11.450574         5.417585         5.180336   \n",
      "min       0.800000    1.000000    1.000000         2.900000         6.000000   \n",
      "25%       1.900000    2.000000    3.000000        21.000000        21.000000   \n",
      "50%       2.300000    6.000000    6.000000        24.000000        25.000000   \n",
      "75%       2.700000   12.000000   13.000000        28.000000        28.000000   \n",
      "max       4.600000   51.000000   58.000000        54.000000        54.000000   \n",
      "\n",
      "          hco3_min  ...       pt_min       pt_max   sodium_min   sodium_max  \\\n",
      "count  1497.000000  ...  1477.000000  1477.000000  5211.000000  5211.000000   \n",
      "mean     23.709486  ...    20.756466    21.450305   139.789388   140.373249   \n",
      "std       6.525662  ...    10.233914    11.687384     5.561235     5.603245   \n",
      "min       2.900000  ...     9.700000     9.700000   116.000000   121.000000   \n",
      "25%      19.700000  ...    14.800000    14.900000   136.000000   137.000000   \n",
      "50%      23.600000  ...    17.400000    17.500000   140.000000   140.000000   \n",
      "75%      27.300000  ...    23.100000    23.800000   143.000000   144.000000   \n",
      "max      59.900000  ...   107.600000   132.300000   170.000000   176.000000   \n",
      "\n",
      "           bun_min      bun_max      wbc_min      wbc_max  calcium_min  \\\n",
      "count  5197.000000  5197.000000  5003.000000  5003.000000  5167.000000   \n",
      "mean     32.777006    33.851587    13.328979    13.611289     8.058703   \n",
      "std      24.057639    24.763344     8.571664     8.813247     0.807816   \n",
      "min       1.000000     1.000000     0.100000     0.100000     3.820000   \n",
      "25%      15.000000    16.000000     8.100000     8.200000     7.600000   \n",
      "50%      26.000000    27.000000    11.600000    11.800000     8.000000   \n",
      "75%      43.000000    45.000000    16.205000    16.600000     8.600000   \n",
      "max     178.000000   192.000000   112.900000   112.900000    12.700000   \n",
      "\n",
      "       calcium_max  \n",
      "count  5167.000000  \n",
      "mean      8.136017  \n",
      "std       0.797512  \n",
      "min       5.000000  \n",
      "25%       7.600000  \n",
      "50%       8.100000  \n",
      "75%       8.600000  \n",
      "max      16.400000  \n",
      "\n",
      "[8 rows x 43 columns]\n"
     ]
    }
   ],
   "source": [
    "print(data_test2.describe())"
   ]
  },
  {
   "cell_type": "code",
   "execution_count": 26,
   "metadata": {},
   "outputs": [
    {
     "name": "stdout",
     "output_type": "stream",
     "text": [
      "<class 'pandas.core.frame.DataFrame'>\n",
      "RangeIndex: 3786 entries, 0 to 3785\n",
      "Data columns (total 43 columns):\n",
      " #   Column             Non-Null Count  Dtype  \n",
      "---  ------             --------------  -----  \n",
      " 0   patientunitstayid  3786 non-null   int64  \n",
      " 1   aniongap_min       2752 non-null   float64\n",
      " 2   aniongap_max       2752 non-null   float64\n",
      " 3   albumin_min        1884 non-null   float64\n",
      " 4   albumin_max        1884 non-null   float64\n",
      " 5   bands_min          303 non-null    float64\n",
      " 6   bands_max          303 non-null    float64\n",
      " 7   bicarbonate_min    3307 non-null   float64\n",
      " 8   bicarbonate_max    3307 non-null   float64\n",
      " 9   hco3_min           1027 non-null   float64\n",
      " 10  hco3_max           1027 non-null   float64\n",
      " 11  bilirubin_min      1642 non-null   float64\n",
      " 12  bilirubin_max      1642 non-null   float64\n",
      " 13  creatinine_min     3511 non-null   float64\n",
      " 14  creatinine_max     3511 non-null   float64\n",
      " 15  chloride_min       3519 non-null   float64\n",
      " 16  chloride_max       3519 non-null   float64\n",
      " 17  glucose_min        3488 non-null   float64\n",
      " 18  glucose_max        3488 non-null   float64\n",
      " 19  hematocrit_min     3392 non-null   float64\n",
      " 20  hematocrit_max     3392 non-null   float64\n",
      " 21  hemoglobin_min     3395 non-null   float64\n",
      " 22  hemoglobin_max     3395 non-null   float64\n",
      " 23  lactate_min        489 non-null    float64\n",
      " 24  lactate_max        489 non-null    float64\n",
      " 25  platelet_min       3366 non-null   float64\n",
      " 26  platelet_max       3366 non-null   float64\n",
      " 27  potassium_min      3560 non-null   float64\n",
      " 28  potassium_max      3560 non-null   float64\n",
      " 29  ptt_min            441 non-null    float64\n",
      " 30  ptt_max            441 non-null    float64\n",
      " 31  inr_min            997 non-null    float64\n",
      " 32  inr_max            997 non-null    float64\n",
      " 33  pt_min             982 non-null    float64\n",
      " 34  pt_max             982 non-null    float64\n",
      " 35  sodium_min         3522 non-null   float64\n",
      " 36  sodium_max         3522 non-null   float64\n",
      " 37  bun_min            3512 non-null   float64\n",
      " 38  bun_max            3512 non-null   float64\n",
      " 39  wbc_min            3377 non-null   float64\n",
      " 40  wbc_max            3377 non-null   float64\n",
      " 41  calcium_min        3489 non-null   float64\n",
      " 42  calcium_max        3489 non-null   float64\n",
      "dtypes: float64(42), int64(1)\n",
      "memory usage: 1.2 MB\n",
      "None\n"
     ]
    }
   ],
   "source": [
    "data_test2 = data_test2.merge(data_test8[['patientunitstayid']], on=['patientunitstayid'], how='inner')\n",
    "print(data_test2.info())"
   ]
  },
  {
   "cell_type": "markdown",
   "metadata": {},
   "source": [
    "## Removing columns with less than 80% non-null values in a DataFrame"
   ]
  },
  {
   "cell_type": "code",
   "execution_count": 27,
   "metadata": {},
   "outputs": [
    {
     "name": "stdout",
     "output_type": "stream",
     "text": [
      "<class 'pandas.core.frame.DataFrame'>\n",
      "RangeIndex: 3786 entries, 0 to 3785\n",
      "Data columns (total 25 columns):\n",
      " #   Column             Non-Null Count  Dtype  \n",
      "---  ------             --------------  -----  \n",
      " 0   patientunitstayid  3786 non-null   int64  \n",
      " 1   bicarbonate_min    3307 non-null   float64\n",
      " 2   bicarbonate_max    3307 non-null   float64\n",
      " 3   creatinine_min     3511 non-null   float64\n",
      " 4   creatinine_max     3511 non-null   float64\n",
      " 5   chloride_min       3519 non-null   float64\n",
      " 6   chloride_max       3519 non-null   float64\n",
      " 7   glucose_min        3488 non-null   float64\n",
      " 8   glucose_max        3488 non-null   float64\n",
      " 9   hematocrit_min     3392 non-null   float64\n",
      " 10  hematocrit_max     3392 non-null   float64\n",
      " 11  hemoglobin_min     3395 non-null   float64\n",
      " 12  hemoglobin_max     3395 non-null   float64\n",
      " 13  platelet_min       3366 non-null   float64\n",
      " 14  platelet_max       3366 non-null   float64\n",
      " 15  potassium_min      3560 non-null   float64\n",
      " 16  potassium_max      3560 non-null   float64\n",
      " 17  sodium_min         3522 non-null   float64\n",
      " 18  sodium_max         3522 non-null   float64\n",
      " 19  bun_min            3512 non-null   float64\n",
      " 20  bun_max            3512 non-null   float64\n",
      " 21  wbc_min            3377 non-null   float64\n",
      " 22  wbc_max            3377 non-null   float64\n",
      " 23  calcium_min        3489 non-null   float64\n",
      " 24  calcium_max        3489 non-null   float64\n",
      "dtypes: float64(24), int64(1)\n",
      "memory usage: 739.6 KB\n",
      "None\n"
     ]
    }
   ],
   "source": [
    "# Calculate the threshold for non-null values\n",
    "th = 0.80 * len(data_test2)\n",
    "# Remove columns that have fewer than 'threshold' non-null values\n",
    "data_test2 = data_test2.loc[:, data_test2.notnull().sum() >= th]\n",
    "print(data_test2.info())\n"
   ]
  },
  {
   "cell_type": "markdown",
   "metadata": {},
   "source": [
    "## Reviewing vasopressors data from the eICU dataset"
   ]
  },
  {
   "cell_type": "code",
   "execution_count": 28,
   "metadata": {},
   "outputs": [
    {
     "name": "stdout",
     "output_type": "stream",
     "text": [
      "   patientunitstayid  norepinephrine  epinephrine  dopamine  dobutamine  \\\n",
      "0            1580187             0.0          0.0       0.0         0.0   \n",
      "1             617217             0.0          1.0       0.0         0.0   \n",
      "2            3341184             0.0          0.0       0.0         0.0   \n",
      "3            3024088             0.0          0.0       0.0         0.0   \n",
      "4            1769940             0.0          0.0       0.0         0.0   \n",
      "\n",
      "   phenylephrine  vasopressin  milrinone  heparin  warfarin  \n",
      "0            0.0          0.0        0.0      0.0       0.0  \n",
      "1            1.0          0.0        0.0      0.0       0.0  \n",
      "2            0.0          0.0        0.0      0.0       0.0  \n",
      "3            0.0          0.0        0.0      0.0       0.0  \n",
      "4            0.0          0.0        0.0      0.0       0.0  \n"
     ]
    }
   ],
   "source": [
    "print(data_test3.head())"
   ]
  },
  {
   "cell_type": "code",
   "execution_count": 29,
   "metadata": {},
   "outputs": [
    {
     "name": "stdout",
     "output_type": "stream",
     "text": [
      "<class 'pandas.core.frame.DataFrame'>\n",
      "RangeIndex: 5553 entries, 0 to 5552\n",
      "Data columns (total 10 columns):\n",
      " #   Column             Non-Null Count  Dtype  \n",
      "---  ------             --------------  -----  \n",
      " 0   patientunitstayid  5553 non-null   int64  \n",
      " 1   norepinephrine     3626 non-null   float64\n",
      " 2   epinephrine        3626 non-null   float64\n",
      " 3   dopamine           3626 non-null   float64\n",
      " 4   dobutamine         3626 non-null   float64\n",
      " 5   phenylephrine      3626 non-null   float64\n",
      " 6   vasopressin        3626 non-null   float64\n",
      " 7   milrinone          3626 non-null   float64\n",
      " 8   heparin            3626 non-null   float64\n",
      " 9   warfarin           3626 non-null   float64\n",
      "dtypes: float64(9), int64(1)\n",
      "memory usage: 434.0 KB\n",
      "None\n"
     ]
    }
   ],
   "source": [
    "print(data_test3.info())"
   ]
  },
  {
   "cell_type": "code",
   "execution_count": 30,
   "metadata": {},
   "outputs": [
    {
     "name": "stdout",
     "output_type": "stream",
     "text": [
      "       patientunitstayid  norepinephrine  epinephrine     dopamine  \\\n",
      "count       5.553000e+03     3626.000000  3626.000000  3626.000000   \n",
      "mean        1.736428e+06        0.047159     0.008274     0.002206   \n",
      "std         1.040834e+06        0.249101     0.119484     0.062106   \n",
      "min         1.413040e+05        0.000000     0.000000     0.000000   \n",
      "25%         7.549710e+05        0.000000     0.000000     0.000000   \n",
      "50%         1.710390e+06        0.000000     0.000000     0.000000   \n",
      "75%         2.791676e+06        0.000000     0.000000     0.000000   \n",
      "max         3.352922e+06        5.000000     4.000000     2.000000   \n",
      "\n",
      "        dobutamine  phenylephrine  vasopressin  milrinone      heparin  \\\n",
      "count  3626.000000    3626.000000  3626.000000     3626.0  3626.000000   \n",
      "mean      0.001931       0.018478     0.015996        0.0     0.084115   \n",
      "std       0.043901       0.169186     0.129798        0.0     0.326040   \n",
      "min       0.000000       0.000000     0.000000        0.0     0.000000   \n",
      "25%       0.000000       0.000000     0.000000        0.0     0.000000   \n",
      "50%       0.000000       0.000000     0.000000        0.0     0.000000   \n",
      "75%       0.000000       0.000000     0.000000        0.0     0.000000   \n",
      "max       1.000000       4.000000     2.000000        0.0     4.000000   \n",
      "\n",
      "          warfarin  \n",
      "count  3626.000000  \n",
      "mean      0.040265  \n",
      "std       0.212779  \n",
      "min       0.000000  \n",
      "25%       0.000000  \n",
      "50%       0.000000  \n",
      "75%       0.000000  \n",
      "max       3.000000  \n"
     ]
    }
   ],
   "source": [
    "print(data_test3.describe())"
   ]
  },
  {
   "cell_type": "code",
   "execution_count": 31,
   "metadata": {},
   "outputs": [
    {
     "name": "stdout",
     "output_type": "stream",
     "text": [
      "<class 'pandas.core.frame.DataFrame'>\n",
      "RangeIndex: 3786 entries, 0 to 3785\n",
      "Data columns (total 10 columns):\n",
      " #   Column             Non-Null Count  Dtype  \n",
      "---  ------             --------------  -----  \n",
      " 0   patientunitstayid  3786 non-null   int64  \n",
      " 1   norepinephrine     2370 non-null   float64\n",
      " 2   epinephrine        2370 non-null   float64\n",
      " 3   dopamine           2370 non-null   float64\n",
      " 4   dobutamine         2370 non-null   float64\n",
      " 5   phenylephrine      2370 non-null   float64\n",
      " 6   vasopressin        2370 non-null   float64\n",
      " 7   milrinone          2370 non-null   float64\n",
      " 8   heparin            2370 non-null   float64\n",
      " 9   warfarin           2370 non-null   float64\n",
      "dtypes: float64(9), int64(1)\n",
      "memory usage: 295.9 KB\n",
      "None\n"
     ]
    }
   ],
   "source": [
    "data_test3 = data_test3.merge(data_test8[['patientunitstayid']], on=['patientunitstayid'], how='inner')\n",
    "print(data_test3.info())"
   ]
  },
  {
   "cell_type": "markdown",
   "metadata": {},
   "source": [
    "## Removing columns "
   ]
  },
  {
   "cell_type": "code",
   "execution_count": 32,
   "metadata": {},
   "outputs": [
    {
     "name": "stdout",
     "output_type": "stream",
     "text": [
      "<class 'pandas.core.frame.DataFrame'>\n",
      "RangeIndex: 3786 entries, 0 to 3785\n",
      "Data columns (total 8 columns):\n",
      " #   Column             Non-Null Count  Dtype  \n",
      "---  ------             --------------  -----  \n",
      " 0   patientunitstayid  3786 non-null   int64  \n",
      " 1   norepinephrine     3786 non-null   float64\n",
      " 2   epinephrine        3786 non-null   float64\n",
      " 3   dopamine           3786 non-null   float64\n",
      " 4   dobutamine         3786 non-null   float64\n",
      " 5   phenylephrine      3786 non-null   float64\n",
      " 6   vasopressin        3786 non-null   float64\n",
      " 7   milrinone          3786 non-null   float64\n",
      "dtypes: float64(7), int64(1)\n",
      "memory usage: 236.8 KB\n",
      "None\n"
     ]
    }
   ],
   "source": [
    "data_test3 = data_test3.drop(columns=['heparin'])\n",
    "data_test3 = data_test3.drop(columns=['warfarin'])\n",
    "data_test3.fillna(0, inplace=True)\n",
    "print(data_test3.info())"
   ]
  },
  {
   "cell_type": "markdown",
   "metadata": {},
   "source": [
    "## Reviewing antibiotics data from the eICU dataset"
   ]
  },
  {
   "cell_type": "code",
   "execution_count": 33,
   "metadata": {},
   "outputs": [
    {
     "name": "stdout",
     "output_type": "stream",
     "text": [
      "   patientunitstayid  Grupo Cefalosporinas  Grupo Penicilinas  Macrolides  \\\n",
      "0             141304                     0                  0           0   \n",
      "1             141751                     0                  1           0   \n",
      "2             141920                     0                  0           0   \n",
      "3             141945                     0                  0           0   \n",
      "4             141959                     0                  0           0   \n",
      "\n",
      "   Meropenem  Metronidazole  Quinolonas  Vancomycin  other  \n",
      "0          0              0           0           1      0  \n",
      "1          0              0           0           1      0  \n",
      "2          0              0           0           0      1  \n",
      "3          0              0           0           0      1  \n",
      "4          0              0           0           0      1  \n"
     ]
    }
   ],
   "source": [
    "print(data_test4.head())"
   ]
  },
  {
   "cell_type": "code",
   "execution_count": 34,
   "metadata": {},
   "outputs": [
    {
     "name": "stdout",
     "output_type": "stream",
     "text": [
      "<class 'pandas.core.frame.DataFrame'>\n",
      "RangeIndex: 5553 entries, 0 to 5552\n",
      "Data columns (total 9 columns):\n",
      " #   Column                Non-Null Count  Dtype\n",
      "---  ------                --------------  -----\n",
      " 0   patientunitstayid     5553 non-null   int64\n",
      " 1   Grupo Cefalosporinas  5553 non-null   int64\n",
      " 2   Grupo Penicilinas     5553 non-null   int64\n",
      " 3   Macrolides            5553 non-null   int64\n",
      " 4   Meropenem             5553 non-null   int64\n",
      " 5   Metronidazole         5553 non-null   int64\n",
      " 6   Quinolonas            5553 non-null   int64\n",
      " 7   Vancomycin            5553 non-null   int64\n",
      " 8   other                 5553 non-null   int64\n",
      "dtypes: int64(9)\n",
      "memory usage: 390.6 KB\n",
      "None\n"
     ]
    }
   ],
   "source": [
    "print(data_test4.info())"
   ]
  },
  {
   "cell_type": "code",
   "execution_count": 35,
   "metadata": {},
   "outputs": [
    {
     "name": "stdout",
     "output_type": "stream",
     "text": [
      "       patientunitstayid  Grupo Cefalosporinas  Grupo Penicilinas  \\\n",
      "count       5.553000e+03           5553.000000        5553.000000   \n",
      "mean        1.736428e+06              0.013326           0.020890   \n",
      "std         1.040834e+06              0.122279           0.149191   \n",
      "min         1.413040e+05              0.000000           0.000000   \n",
      "25%         7.549710e+05              0.000000           0.000000   \n",
      "50%         1.710390e+06              0.000000           0.000000   \n",
      "75%         2.791676e+06              0.000000           0.000000   \n",
      "max         3.352922e+06              2.000000           3.000000   \n",
      "\n",
      "        Macrolides    Meropenem  Metronidazole   Quinolonas   Vancomycin  \\\n",
      "count  5553.000000  5553.000000    5553.000000  5553.000000  5553.000000   \n",
      "mean      0.003061     0.005943       0.006843     0.018188     0.084459   \n",
      "std       0.055250     0.083601       0.082447     0.144023     0.312270   \n",
      "min       0.000000     0.000000       0.000000     0.000000     0.000000   \n",
      "25%       0.000000     0.000000       0.000000     0.000000     0.000000   \n",
      "50%       0.000000     0.000000       0.000000     0.000000     0.000000   \n",
      "75%       0.000000     0.000000       0.000000     0.000000     0.000000   \n",
      "max       1.000000     2.000000       1.000000     3.000000     4.000000   \n",
      "\n",
      "             other  \n",
      "count  5553.000000  \n",
      "mean      0.882226  \n",
      "std       0.322370  \n",
      "min       0.000000  \n",
      "25%       1.000000  \n",
      "50%       1.000000  \n",
      "75%       1.000000  \n",
      "max       1.000000  \n"
     ]
    }
   ],
   "source": [
    "print(data_test4.describe())"
   ]
  },
  {
   "cell_type": "markdown",
   "metadata": {},
   "source": [
    "## Renaming columns and adjusting data types"
   ]
  },
  {
   "cell_type": "code",
   "execution_count": 36,
   "metadata": {},
   "outputs": [],
   "source": [
    "data_test4 = data_test4.drop(columns=['other'])\n",
    "# Renaming columns\n",
    "data_test4 = data_test4.rename(columns={\n",
    "    'Grupo Cefalosporinas': 'Cefalosporine',\n",
    "    'Grupo Penicilinas': 'Penicillin',\n",
    "    'Macrolides': 'Macrolide',\n",
    "    'Quinolonas' : 'Quinolone',\n",
    "})\n",
    "\n",
    "# Converting specified columns to float64\n",
    "data_test4[['Cefalosporine', 'Penicillin', 'Macrolide', 'Quinolone', 'Meropenem', 'Metronidazole', 'Vancomycin']] = data_test4[['Cefalosporine', 'Penicillin', 'Macrolide', 'Quinolone', 'Meropenem', 'Metronidazole', 'Vancomycin']].astype('float64')\n",
    "\n"
   ]
  },
  {
   "cell_type": "code",
   "execution_count": 37,
   "metadata": {},
   "outputs": [
    {
     "name": "stdout",
     "output_type": "stream",
     "text": [
      "<class 'pandas.core.frame.DataFrame'>\n",
      "RangeIndex: 3786 entries, 0 to 3785\n",
      "Data columns (total 8 columns):\n",
      " #   Column             Non-Null Count  Dtype  \n",
      "---  ------             --------------  -----  \n",
      " 0   patientunitstayid  3786 non-null   int64  \n",
      " 1   Cefalosporine      3786 non-null   float64\n",
      " 2   Penicillin         3786 non-null   float64\n",
      " 3   Macrolide          3786 non-null   float64\n",
      " 4   Meropenem          3786 non-null   float64\n",
      " 5   Metronidazole      3786 non-null   float64\n",
      " 6   Quinolone          3786 non-null   float64\n",
      " 7   Vancomycin         3786 non-null   float64\n",
      "dtypes: float64(7), int64(1)\n",
      "memory usage: 236.8 KB\n",
      "None\n"
     ]
    }
   ],
   "source": [
    "data_test4 = data_test4.merge(data_test8[['patientunitstayid']], on=['patientunitstayid'], how='inner')\n",
    "print(data_test4.info())"
   ]
  },
  {
   "cell_type": "markdown",
   "metadata": {},
   "source": [
    "## Reviewing Glasgow Coma Scale (GCS) data from the eICU dataset"
   ]
  },
  {
   "cell_type": "code",
   "execution_count": 38,
   "metadata": {},
   "outputs": [
    {
     "name": "stdout",
     "output_type": "stream",
     "text": [
      "   patientunitstayid   gcs  gcsmotor  gcsverbal  gcseyes\n",
      "0             141304  15.0       NaN        NaN      NaN\n",
      "1             141751  10.0       NaN        NaN      NaN\n",
      "2             141920  15.0       NaN        NaN      NaN\n",
      "3             141945  15.0       NaN        NaN      NaN\n",
      "4             141959  14.0       NaN        NaN      NaN\n"
     ]
    }
   ],
   "source": [
    "print(data_test5.head())"
   ]
  },
  {
   "cell_type": "code",
   "execution_count": 39,
   "metadata": {},
   "outputs": [
    {
     "name": "stdout",
     "output_type": "stream",
     "text": [
      "<class 'pandas.core.frame.DataFrame'>\n",
      "RangeIndex: 5553 entries, 0 to 5552\n",
      "Data columns (total 5 columns):\n",
      " #   Column             Non-Null Count  Dtype  \n",
      "---  ------             --------------  -----  \n",
      " 0   patientunitstayid  5553 non-null   int64  \n",
      " 1   gcs                4126 non-null   float64\n",
      " 2   gcsmotor           3007 non-null   float64\n",
      " 3   gcsverbal          2994 non-null   float64\n",
      " 4   gcseyes            3007 non-null   float64\n",
      "dtypes: float64(4), int64(1)\n",
      "memory usage: 217.0 KB\n",
      "None\n"
     ]
    }
   ],
   "source": [
    "print(data_test5.info())"
   ]
  },
  {
   "cell_type": "code",
   "execution_count": 40,
   "metadata": {},
   "outputs": [
    {
     "name": "stdout",
     "output_type": "stream",
     "text": [
      "       patientunitstayid          gcs     gcsmotor    gcsverbal      gcseyes\n",
      "count       5.553000e+03  4126.000000  3007.000000  2994.000000  3007.000000\n",
      "mean        1.736428e+06    13.328648     5.701696     3.923848     3.779514\n",
      "std         1.040834e+06     2.662892     0.853045     1.563089     0.620888\n",
      "min         1.413040e+05     3.000000     1.000000     1.000000     1.000000\n",
      "25%         7.549710e+05    12.000000     6.000000     3.000000     4.000000\n",
      "50%         1.710390e+06    15.000000     6.000000     5.000000     4.000000\n",
      "75%         2.791676e+06    15.000000     6.000000     5.000000     4.000000\n",
      "max         3.352922e+06    15.000000     6.000000     5.000000     4.000000\n"
     ]
    }
   ],
   "source": [
    "print(data_test5.describe())"
   ]
  },
  {
   "cell_type": "markdown",
   "metadata": {},
   "source": [
    "## Renaming columns "
   ]
  },
  {
   "cell_type": "code",
   "execution_count": 41,
   "metadata": {},
   "outputs": [],
   "source": [
    "# Renaming columns\n",
    "data_test5 = data_test5.rename(columns={\n",
    "    'gcs': 'gcs_min',\n",
    "    'gcsmotor': 'gcs_motor',\n",
    "    'gcsverbal' : 'gcs_verbal',\n",
    "    'gcseyes' : 'gcs_eyes'\n",
    "})"
   ]
  },
  {
   "cell_type": "code",
   "execution_count": 42,
   "metadata": {},
   "outputs": [
    {
     "name": "stdout",
     "output_type": "stream",
     "text": [
      "<class 'pandas.core.frame.DataFrame'>\n",
      "RangeIndex: 3786 entries, 0 to 3785\n",
      "Data columns (total 5 columns):\n",
      " #   Column             Non-Null Count  Dtype  \n",
      "---  ------             --------------  -----  \n",
      " 0   patientunitstayid  3786 non-null   int64  \n",
      " 1   gcs_min            2827 non-null   float64\n",
      " 2   gcs_motor          2036 non-null   float64\n",
      " 3   gcs_verbal         2025 non-null   float64\n",
      " 4   gcs_eyes           2036 non-null   float64\n",
      "dtypes: float64(4), int64(1)\n",
      "memory usage: 148.0 KB\n",
      "None\n"
     ]
    }
   ],
   "source": [
    "data_test5 = data_test5.merge(data_test8[['patientunitstayid']], on=['patientunitstayid'], how='inner')\n",
    "print(data_test5.info())"
   ]
  },
  {
   "cell_type": "code",
   "execution_count": 51,
   "metadata": {},
   "outputs": [
    {
     "name": "stdout",
     "output_type": "stream",
     "text": [
      "<class 'pandas.core.frame.DataFrame'>\n",
      "RangeIndex: 3786 entries, 0 to 3785\n",
      "Data columns (total 2 columns):\n",
      " #   Column             Non-Null Count  Dtype  \n",
      "---  ------             --------------  -----  \n",
      " 0   patientunitstayid  3786 non-null   int64  \n",
      " 1   urineoutput        2164 non-null   float64\n",
      "dtypes: float64(1), int64(1)\n",
      "memory usage: 59.3 KB\n",
      "None\n"
     ]
    }
   ],
   "source": [
    "data_test6 = data_test6.merge(data_test8[['patientunitstayid']], on=['patientunitstayid'], how='inner')\n",
    "print(data_test6.info())"
   ]
  },
  {
   "cell_type": "code",
   "execution_count": 55,
   "metadata": {},
   "outputs": [
    {
     "name": "stdout",
     "output_type": "stream",
     "text": [
      "<class 'pandas.core.frame.DataFrame'>\n",
      "RangeIndex: 3786 entries, 0 to 3785\n",
      "Data columns (total 2 columns):\n",
      " #   Column             Non-Null Count  Dtype\n",
      "---  ------             --------------  -----\n",
      " 0   patientunitstayid  3786 non-null   int64\n",
      " 1   sofa               3786 non-null   int64\n",
      "dtypes: int64(2)\n",
      "memory usage: 59.3 KB\n",
      "None\n"
     ]
    }
   ],
   "source": [
    "data_test7 = data_test7.merge(data_test8[['patientunitstayid']], on=['patientunitstayid'], how='inner')\n",
    "print(data_test7.info())"
   ]
  },
  {
   "cell_type": "code",
   "execution_count": 56,
   "metadata": {},
   "outputs": [],
   "source": [
    "# Start with df1, which contains patientunitstayid and hospital_expire_flag columns\n",
    "# Ensure 'df1' has only 'patientunitstayid' and 'hospital_expire_flag' columns\n",
    "merged_df = data_test[['patientunitstayid', 'hospital_expire_flag', 'age', 'sex', 'race', 'los_icu']]\n",
    "\n",
    "# Merge df2 to df8 sequentially with 'merged_df' using an inner join on 'patientunitstayid'\n",
    "# This will only keep rows with matching 'patientunitstayid' values across all dataframes\n",
    "\n",
    "for df in [data_test1, data_test2, data_test3, data_test4, data_test5, data_test6, data_test7]:\n",
    "    merged_df = merged_df.merge(df, on='patientunitstayid', how='inner')\n",
    "\n"
   ]
  },
  {
   "cell_type": "code",
   "execution_count": 57,
   "metadata": {},
   "outputs": [
    {
     "name": "stdout",
     "output_type": "stream",
     "text": [
      "<class 'pandas.core.frame.DataFrame'>\n",
      "RangeIndex: 3786 entries, 0 to 3785\n",
      "Data columns (total 71 columns):\n",
      " #   Column                Non-Null Count  Dtype  \n",
      "---  ------                --------------  -----  \n",
      " 0   patientunitstayid     3786 non-null   int64  \n",
      " 1   hospital_expire_flag  3786 non-null   int64  \n",
      " 2   age                   3786 non-null   int64  \n",
      " 3   sex                   3786 non-null   int64  \n",
      " 4   race                  3786 non-null   int64  \n",
      " 5   los_icu               3786 non-null   float64\n",
      " 6   temperature_max       3429 non-null   float64\n",
      " 7   temperature_min       3429 non-null   float64\n",
      " 8   temperature_mean      3429 non-null   float64\n",
      " 9   spo2_max              3770 non-null   float64\n",
      " 10  spo2_min              3770 non-null   float64\n",
      " 11  spo2_mean             3770 non-null   float64\n",
      " 12  heart_rate_max        3772 non-null   float64\n",
      " 13  heart_rate_min        3772 non-null   float64\n",
      " 14  heart_rate_mean       3772 non-null   float64\n",
      " 15  resp_rate_max         3741 non-null   float64\n",
      " 16  resp_rate_min         3741 non-null   float64\n",
      " 17  resp_rate_mean        3741 non-null   float64\n",
      " 18  sbp_max               3401 non-null   float64\n",
      " 19  sbp_min               3401 non-null   float64\n",
      " 20  sbp_mean              3401 non-null   float64\n",
      " 21  dbp_max               3401 non-null   float64\n",
      " 22  dbp_min               3401 non-null   float64\n",
      " 23  dbp_mean              3401 non-null   float64\n",
      " 24  mbp_max               3239 non-null   float64\n",
      " 25  mbp_min               3239 non-null   float64\n",
      " 26  mbp_mean              3239 non-null   float64\n",
      " 27  bicarbonate_min       3307 non-null   float64\n",
      " 28  bicarbonate_max       3307 non-null   float64\n",
      " 29  creatinine_min        3511 non-null   float64\n",
      " 30  creatinine_max        3511 non-null   float64\n",
      " 31  chloride_min          3519 non-null   float64\n",
      " 32  chloride_max          3519 non-null   float64\n",
      " 33  glucose_min           3488 non-null   float64\n",
      " 34  glucose_max           3488 non-null   float64\n",
      " 35  hematocrit_min        3392 non-null   float64\n",
      " 36  hematocrit_max        3392 non-null   float64\n",
      " 37  hemoglobin_min        3395 non-null   float64\n",
      " 38  hemoglobin_max        3395 non-null   float64\n",
      " 39  platelet_min          3366 non-null   float64\n",
      " 40  platelet_max          3366 non-null   float64\n",
      " 41  potassium_min         3560 non-null   float64\n",
      " 42  potassium_max         3560 non-null   float64\n",
      " 43  sodium_min            3522 non-null   float64\n",
      " 44  sodium_max            3522 non-null   float64\n",
      " 45  bun_min               3512 non-null   float64\n",
      " 46  bun_max               3512 non-null   float64\n",
      " 47  wbc_min               3377 non-null   float64\n",
      " 48  wbc_max               3377 non-null   float64\n",
      " 49  calcium_min           3489 non-null   float64\n",
      " 50  calcium_max           3489 non-null   float64\n",
      " 51  norepinephrine        3786 non-null   float64\n",
      " 52  epinephrine           3786 non-null   float64\n",
      " 53  dopamine              3786 non-null   float64\n",
      " 54  dobutamine            3786 non-null   float64\n",
      " 55  phenylephrine         3786 non-null   float64\n",
      " 56  vasopressin           3786 non-null   float64\n",
      " 57  milrinone             3786 non-null   float64\n",
      " 58  Cefalosporine         3786 non-null   float64\n",
      " 59  Penicillin            3786 non-null   float64\n",
      " 60  Macrolide             3786 non-null   float64\n",
      " 61  Meropenem             3786 non-null   float64\n",
      " 62  Metronidazole         3786 non-null   float64\n",
      " 63  Quinolone             3786 non-null   float64\n",
      " 64  Vancomycin            3786 non-null   float64\n",
      " 65  gcs_min               2827 non-null   float64\n",
      " 66  gcs_motor             2036 non-null   float64\n",
      " 67  gcs_verbal            2025 non-null   float64\n",
      " 68  gcs_eyes              2036 non-null   float64\n",
      " 69  urineoutput           2164 non-null   float64\n",
      " 70  sofa                  3786 non-null   int64  \n",
      "dtypes: float64(65), int64(6)\n",
      "memory usage: 2.1 MB\n",
      "None\n"
     ]
    }
   ],
   "source": [
    "print(merged_df.info())"
   ]
  },
  {
   "cell_type": "code",
   "execution_count": 58,
   "metadata": {},
   "outputs": [
    {
     "name": "stdout",
     "output_type": "stream",
     "text": [
      "Index(['milrinone'], dtype='object')\n",
      "<class 'pandas.core.frame.DataFrame'>\n",
      "RangeIndex: 3786 entries, 0 to 3785\n",
      "Data columns (total 70 columns):\n",
      " #   Column                Non-Null Count  Dtype  \n",
      "---  ------                --------------  -----  \n",
      " 0   patientunitstayid     3786 non-null   int64  \n",
      " 1   hospital_expire_flag  3786 non-null   int64  \n",
      " 2   age                   3786 non-null   int64  \n",
      " 3   sex                   3786 non-null   int64  \n",
      " 4   race                  3786 non-null   int64  \n",
      " 5   los_icu               3786 non-null   float64\n",
      " 6   temperature_max       3429 non-null   float64\n",
      " 7   temperature_min       3429 non-null   float64\n",
      " 8   temperature_mean      3429 non-null   float64\n",
      " 9   spo2_max              3770 non-null   float64\n",
      " 10  spo2_min              3770 non-null   float64\n",
      " 11  spo2_mean             3770 non-null   float64\n",
      " 12  heart_rate_max        3772 non-null   float64\n",
      " 13  heart_rate_min        3772 non-null   float64\n",
      " 14  heart_rate_mean       3772 non-null   float64\n",
      " 15  resp_rate_max         3741 non-null   float64\n",
      " 16  resp_rate_min         3741 non-null   float64\n",
      " 17  resp_rate_mean        3741 non-null   float64\n",
      " 18  sbp_max               3401 non-null   float64\n",
      " 19  sbp_min               3401 non-null   float64\n",
      " 20  sbp_mean              3401 non-null   float64\n",
      " 21  dbp_max               3401 non-null   float64\n",
      " 22  dbp_min               3401 non-null   float64\n",
      " 23  dbp_mean              3401 non-null   float64\n",
      " 24  mbp_max               3239 non-null   float64\n",
      " 25  mbp_min               3239 non-null   float64\n",
      " 26  mbp_mean              3239 non-null   float64\n",
      " 27  bicarbonate_min       3307 non-null   float64\n",
      " 28  bicarbonate_max       3307 non-null   float64\n",
      " 29  creatinine_min        3511 non-null   float64\n",
      " 30  creatinine_max        3511 non-null   float64\n",
      " 31  chloride_min          3519 non-null   float64\n",
      " 32  chloride_max          3519 non-null   float64\n",
      " 33  glucose_min           3488 non-null   float64\n",
      " 34  glucose_max           3488 non-null   float64\n",
      " 35  hematocrit_min        3392 non-null   float64\n",
      " 36  hematocrit_max        3392 non-null   float64\n",
      " 37  hemoglobin_min        3395 non-null   float64\n",
      " 38  hemoglobin_max        3395 non-null   float64\n",
      " 39  platelet_min          3366 non-null   float64\n",
      " 40  platelet_max          3366 non-null   float64\n",
      " 41  potassium_min         3560 non-null   float64\n",
      " 42  potassium_max         3560 non-null   float64\n",
      " 43  sodium_min            3522 non-null   float64\n",
      " 44  sodium_max            3522 non-null   float64\n",
      " 45  bun_min               3512 non-null   float64\n",
      " 46  bun_max               3512 non-null   float64\n",
      " 47  wbc_min               3377 non-null   float64\n",
      " 48  wbc_max               3377 non-null   float64\n",
      " 49  calcium_min           3489 non-null   float64\n",
      " 50  calcium_max           3489 non-null   float64\n",
      " 51  norepinephrine        3786 non-null   float64\n",
      " 52  epinephrine           3786 non-null   float64\n",
      " 53  dopamine              3786 non-null   float64\n",
      " 54  dobutamine            3786 non-null   float64\n",
      " 55  phenylephrine         3786 non-null   float64\n",
      " 56  vasopressin           3786 non-null   float64\n",
      " 57  Cefalosporine         3786 non-null   float64\n",
      " 58  Penicillin            3786 non-null   float64\n",
      " 59  Macrolide             3786 non-null   float64\n",
      " 60  Meropenem             3786 non-null   float64\n",
      " 61  Metronidazole         3786 non-null   float64\n",
      " 62  Quinolone             3786 non-null   float64\n",
      " 63  Vancomycin            3786 non-null   float64\n",
      " 64  gcs_min               2827 non-null   float64\n",
      " 65  gcs_motor             2036 non-null   float64\n",
      " 66  gcs_verbal            2025 non-null   float64\n",
      " 67  gcs_eyes              2036 non-null   float64\n",
      " 68  urineoutput           2164 non-null   float64\n",
      " 69  sofa                  3786 non-null   int64  \n",
      "dtypes: float64(64), int64(6)\n",
      "memory usage: 2.0 MB\n",
      "None\n"
     ]
    }
   ],
   "source": [
    "# Check for columns that contain only 0 values\n",
    "columns_with_zeros = merged_df.columns[(merged_df == 0).all()]\n",
    "print(columns_with_zeros)\n",
    "\n",
    "# Drop the columns that contain only zeros\n",
    "merged_df = merged_df.drop(columns=columns_with_zeros)\n",
    "print(merged_df.info())"
   ]
  },
  {
   "cell_type": "code",
   "execution_count": 59,
   "metadata": {},
   "outputs": [],
   "source": [
    "merged_df.to_csv('datapre/eicu/conflag_eICU_24_48.csv', index=False)"
   ]
  },
  {
   "cell_type": "code",
   "execution_count": 60,
   "metadata": {},
   "outputs": [
    {
     "name": "stdout",
     "output_type": "stream",
     "text": [
      "<class 'pandas.core.frame.DataFrame'>\n",
      "RangeIndex: 3786 entries, 0 to 3785\n",
      "Data columns (total 68 columns):\n",
      " #   Column            Non-Null Count  Dtype  \n",
      "---  ------            --------------  -----  \n",
      " 0   age               3786 non-null   int64  \n",
      " 1   sex               3786 non-null   int64  \n",
      " 2   race              3786 non-null   int64  \n",
      " 3   los_icu           3786 non-null   float64\n",
      " 4   temperature_max   3429 non-null   float64\n",
      " 5   temperature_min   3429 non-null   float64\n",
      " 6   temperature_mean  3429 non-null   float64\n",
      " 7   spo2_max          3770 non-null   float64\n",
      " 8   spo2_min          3770 non-null   float64\n",
      " 9   spo2_mean         3770 non-null   float64\n",
      " 10  heart_rate_max    3772 non-null   float64\n",
      " 11  heart_rate_min    3772 non-null   float64\n",
      " 12  heart_rate_mean   3772 non-null   float64\n",
      " 13  resp_rate_max     3741 non-null   float64\n",
      " 14  resp_rate_min     3741 non-null   float64\n",
      " 15  resp_rate_mean    3741 non-null   float64\n",
      " 16  sbp_max           3401 non-null   float64\n",
      " 17  sbp_min           3401 non-null   float64\n",
      " 18  sbp_mean          3401 non-null   float64\n",
      " 19  dbp_max           3401 non-null   float64\n",
      " 20  dbp_min           3401 non-null   float64\n",
      " 21  dbp_mean          3401 non-null   float64\n",
      " 22  mbp_max           3239 non-null   float64\n",
      " 23  mbp_min           3239 non-null   float64\n",
      " 24  mbp_mean          3239 non-null   float64\n",
      " 25  bicarbonate_min   3307 non-null   float64\n",
      " 26  bicarbonate_max   3307 non-null   float64\n",
      " 27  creatinine_min    3511 non-null   float64\n",
      " 28  creatinine_max    3511 non-null   float64\n",
      " 29  chloride_min      3519 non-null   float64\n",
      " 30  chloride_max      3519 non-null   float64\n",
      " 31  glucose_min       3488 non-null   float64\n",
      " 32  glucose_max       3488 non-null   float64\n",
      " 33  hematocrit_min    3392 non-null   float64\n",
      " 34  hematocrit_max    3392 non-null   float64\n",
      " 35  hemoglobin_min    3395 non-null   float64\n",
      " 36  hemoglobin_max    3395 non-null   float64\n",
      " 37  platelet_min      3366 non-null   float64\n",
      " 38  platelet_max      3366 non-null   float64\n",
      " 39  potassium_min     3560 non-null   float64\n",
      " 40  potassium_max     3560 non-null   float64\n",
      " 41  sodium_min        3522 non-null   float64\n",
      " 42  sodium_max        3522 non-null   float64\n",
      " 43  bun_min           3512 non-null   float64\n",
      " 44  bun_max           3512 non-null   float64\n",
      " 45  wbc_min           3377 non-null   float64\n",
      " 46  wbc_max           3377 non-null   float64\n",
      " 47  calcium_min       3489 non-null   float64\n",
      " 48  calcium_max       3489 non-null   float64\n",
      " 49  norepinephrine    3786 non-null   float64\n",
      " 50  epinephrine       3786 non-null   float64\n",
      " 51  dopamine          3786 non-null   float64\n",
      " 52  dobutamine        3786 non-null   float64\n",
      " 53  phenylephrine     3786 non-null   float64\n",
      " 54  vasopressin       3786 non-null   float64\n",
      " 55  Cefalosporine     3786 non-null   float64\n",
      " 56  Penicillin        3786 non-null   float64\n",
      " 57  Macrolide         3786 non-null   float64\n",
      " 58  Meropenem         3786 non-null   float64\n",
      " 59  Metronidazole     3786 non-null   float64\n",
      " 60  Quinolone         3786 non-null   float64\n",
      " 61  Vancomycin        3786 non-null   float64\n",
      " 62  gcs_min           2827 non-null   float64\n",
      " 63  gcs_motor         2036 non-null   float64\n",
      " 64  gcs_verbal        2025 non-null   float64\n",
      " 65  gcs_eyes          2036 non-null   float64\n",
      " 66  urineoutput       2164 non-null   float64\n",
      " 67  sofa              3786 non-null   int64  \n",
      "dtypes: float64(64), int64(4)\n",
      "memory usage: 2.0 MB\n",
      "None\n"
     ]
    }
   ],
   "source": [
    "merged_df = merged_df.drop(columns=['patientunitstayid', 'hospital_expire_flag'])\n",
    "print(merged_df.info())"
   ]
  },
  {
   "cell_type": "code",
   "execution_count": 61,
   "metadata": {},
   "outputs": [],
   "source": [
    "merged_df.to_csv('datapre/eicu/sinflag_eICU_24_48.csv', index=False)"
   ]
  }
 ],
 "metadata": {
  "kernelspec": {
   "display_name": "Python 3",
   "language": "python",
   "name": "python3"
  },
  "language_info": {
   "codemirror_mode": {
    "name": "ipython",
    "version": 3
   },
   "file_extension": ".py",
   "mimetype": "text/x-python",
   "name": "python",
   "nbconvert_exporter": "python",
   "pygments_lexer": "ipython3",
   "version": "3.12.4"
  }
 },
 "nbformat": 4,
 "nbformat_minor": 2
}
