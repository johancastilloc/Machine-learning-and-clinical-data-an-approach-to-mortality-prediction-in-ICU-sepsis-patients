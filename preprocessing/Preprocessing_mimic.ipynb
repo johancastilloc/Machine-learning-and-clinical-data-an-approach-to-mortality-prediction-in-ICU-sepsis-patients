{
 "cells": [
  {
   "cell_type": "markdown",
   "metadata": {},
   "source": [
    "## Libraries "
   ]
  },
  {
   "cell_type": "code",
   "execution_count": 1,
   "metadata": {},
   "outputs": [],
   "source": [
    "import pandas as pd\n",
    "import numpy as np\n",
    "import os\n",
    "# change the working directory to the parent directory\n",
    "current_dir = os.path.abspath(os.getcwd())\n",
    "\n",
    "parent_dir = os.path.abspath(os.path.join(current_dir, '..'))\n",
    "os.chdir(parent_dir)"
   ]
  },
  {
   "cell_type": "markdown",
   "metadata": {},
   "source": [
    "## Loading data from the MIMIC-IV dataset"
   ]
  },
  {
   "cell_type": "markdown",
   "metadata": {},
   "source": [
    "Preprocessing can be performed in the same way for data intended for 12-, 24-, and 48-hour predictions. The data cleaning and transformation steps are identical in each case, meaning that only the file paths need to be adjusted for each time-based dataset. Once the paths are updated, the preprocessing process automatically adapts without requiring additional modifications, ensuring an efficient and consistent workflow."
   ]
  },
  {
   "cell_type": "code",
   "execution_count": 2,
   "metadata": {},
   "outputs": [],
   "source": [
    "data_test = pd.read_csv(\"Data_johan/mimic/48h_24h/demograficos.csv\" )\n",
    "data_test1 = pd.read_csv(\"Data_johan/mimic/48h_24h/vitalsigns.csv\" )\n",
    "data_test2 = pd.read_csv(\"Data_johan/mimic/48h_24h/lab.csv\" )\n",
    "data_test3 = pd.read_csv(\"Data_johan/mimic/48h_24h/vasopresores.csv\" )\n",
    "data_test4 = pd.read_csv(\"Data_johan/mimic/48h_24h/antibioticos.csv\" )\n",
    "data_test5 = pd.read_csv(\"Data_johan/mimic/48h_24h/gcs.csv\" )\n",
    "data_test6 = pd.read_csv(\"Data_johan/mimic/48h_24h/urineoutput.csv\" )\n",
    "data_test7 = pd.read_csv(\"Data_johan/mimic/48h_24h/sofa.csv\" )\n",
    "data_test8 = pd.read_csv('datapre/mimic/conflag_mimic_48_72.csv')"
   ]
  },
  {
   "cell_type": "code",
   "execution_count": 3,
   "metadata": {},
   "outputs": [
    {
     "name": "stdout",
     "output_type": "stream",
     "text": [
      "   subject_id   hadm_id   stay_id gender                    race  \\\n",
      "0    10000690  25860671  37081114      F                   WHITE   \n",
      "1    10001884  26184834  37510196      F  BLACK/AFRICAN AMERICAN   \n",
      "2    10002155  23822395  33685454      F                   WHITE   \n",
      "3    10002348  22725460  32610785      F                   WHITE   \n",
      "4    10002428  28662225  38875437      F                   WHITE   \n",
      "\n",
      "   admission_age  los_icu  hospital_expire_flag first_icu_stay  \n",
      "0      86.837120     3.89                     0              t  \n",
      "1      77.018296     9.17                     1              t  \n",
      "2      81.592179     6.18                     0              t  \n",
      "3      77.917014     9.79                     0              t  \n",
      "4      81.280232     7.03                     0              f  \n"
     ]
    }
   ],
   "source": [
    "print(data_test.head())"
   ]
  },
  {
   "cell_type": "code",
   "execution_count": 4,
   "metadata": {},
   "outputs": [
    {
     "name": "stdout",
     "output_type": "stream",
     "text": [
      "<class 'pandas.core.frame.DataFrame'>\n",
      "RangeIndex: 10630 entries, 0 to 10629\n",
      "Data columns (total 9 columns):\n",
      " #   Column                Non-Null Count  Dtype  \n",
      "---  ------                --------------  -----  \n",
      " 0   subject_id            10630 non-null  int64  \n",
      " 1   hadm_id               10630 non-null  int64  \n",
      " 2   stay_id               10630 non-null  int64  \n",
      " 3   gender                10630 non-null  object \n",
      " 4   race                  10630 non-null  object \n",
      " 5   admission_age         10630 non-null  float64\n",
      " 6   los_icu               10630 non-null  float64\n",
      " 7   hospital_expire_flag  10630 non-null  int64  \n",
      " 8   first_icu_stay        10630 non-null  object \n",
      "dtypes: float64(2), int64(4), object(3)\n",
      "memory usage: 747.6+ KB\n",
      "None\n"
     ]
    }
   ],
   "source": [
    "print(data_test.info())"
   ]
  },
  {
   "cell_type": "code",
   "execution_count": 5,
   "metadata": {},
   "outputs": [
    {
     "name": "stdout",
     "output_type": "stream",
     "text": [
      "         subject_id       hadm_id       stay_id  admission_age       los_icu  \\\n",
      "count  1.063000e+04  1.063000e+04  1.063000e+04   10630.000000  10630.000000   \n",
      "mean   1.501466e+07  2.501610e+07  3.491269e+07      66.676217      7.514547   \n",
      "std    2.873762e+06  2.881380e+06  2.885487e+06      16.768537      7.500857   \n",
      "min    1.000069e+07  2.000130e+07  3.000481e+07      18.133808      2.000000   \n",
      "25%    1.257655e+07  2.253831e+07  3.240168e+07      56.365412      2.980000   \n",
      "50%    1.501426e+07  2.503430e+07  3.485589e+07      68.269995      4.790000   \n",
      "75%    1.752694e+07  2.749369e+07  3.740836e+07      79.636882      9.000000   \n",
      "max    1.999984e+07  2.999910e+07  3.999923e+07     100.516763    101.730000   \n",
      "\n",
      "       hospital_expire_flag  \n",
      "count          10630.000000  \n",
      "mean               0.138758  \n",
      "std                0.345710  \n",
      "min                0.000000  \n",
      "25%                0.000000  \n",
      "50%                0.000000  \n",
      "75%                0.000000  \n",
      "max                1.000000  \n"
     ]
    }
   ],
   "source": [
    "print(data_test.describe())"
   ]
  },
  {
   "cell_type": "markdown",
   "metadata": {},
   "source": [
    "## Data treatment for the age column"
   ]
  },
  {
   "cell_type": "code",
   "execution_count": 6,
   "metadata": {},
   "outputs": [
    {
     "name": "stdout",
     "output_type": "stream",
     "text": [
      "[86.83712002 77.01829586 81.59217876 ... 53.50543262 42.61875832\n",
      " 58.69426382]\n"
     ]
    }
   ],
   "source": [
    "# Display unique values in the 'admission_age' column\n",
    "print(data_test['admission_age'].unique())"
   ]
  },
  {
   "cell_type": "code",
   "execution_count": 7,
   "metadata": {},
   "outputs": [],
   "source": [
    "# Round down and convert to integer\n",
    "data_test['admission_age'] = np.floor(data_test['admission_age']).astype(int)"
   ]
  },
  {
   "cell_type": "code",
   "execution_count": 8,
   "metadata": {},
   "outputs": [
    {
     "name": "stdout",
     "output_type": "stream",
     "text": [
      "<class 'pandas.core.frame.DataFrame'>\n",
      "RangeIndex: 10630 entries, 0 to 10629\n",
      "Data columns (total 9 columns):\n",
      " #   Column                Non-Null Count  Dtype  \n",
      "---  ------                --------------  -----  \n",
      " 0   subject_id            10630 non-null  int64  \n",
      " 1   hadm_id               10630 non-null  int64  \n",
      " 2   stay_id               10630 non-null  int64  \n",
      " 3   gender                10630 non-null  object \n",
      " 4   race                  10630 non-null  object \n",
      " 5   admission_age         10630 non-null  int64  \n",
      " 6   los_icu               10630 non-null  float64\n",
      " 7   hospital_expire_flag  10630 non-null  int64  \n",
      " 8   first_icu_stay        10630 non-null  object \n",
      "dtypes: float64(1), int64(5), object(3)\n",
      "memory usage: 747.6+ KB\n",
      "None\n"
     ]
    }
   ],
   "source": [
    "print(data_test.info())"
   ]
  },
  {
   "cell_type": "markdown",
   "metadata": {},
   "source": [
    "## Data treatment for the gender column"
   ]
  },
  {
   "cell_type": "code",
   "execution_count": 9,
   "metadata": {},
   "outputs": [
    {
     "name": "stdout",
     "output_type": "stream",
     "text": [
      "['F' 'M']\n"
     ]
    }
   ],
   "source": [
    "# Display unique values in the 'gender' column\n",
    "print(data_test['gender'].unique())"
   ]
  },
  {
   "cell_type": "code",
   "execution_count": 10,
   "metadata": {},
   "outputs": [
    {
     "name": "stderr",
     "output_type": "stream",
     "text": [
      "C:\\Users\\JOHAN\\AppData\\Local\\Temp\\ipykernel_1168\\1037694562.py:8: FutureWarning: Downcasting behavior in `replace` is deprecated and will be removed in a future version. To retain the old behavior, explicitly call `result.infer_objects(copy=False)`. To opt-in to the future behavior, set `pd.set_option('future.no_silent_downcasting', True)`\n",
      "  data_test['gender'] = data_test['gender'].replace(gender_mapping).astype('int64')\n"
     ]
    }
   ],
   "source": [
    "# Define a mapping for the gender values\n",
    "gender_mapping = {\n",
    "    'F': 0,\n",
    "    'M': 1,\n",
    "}\n",
    "\n",
    "# Replace values in the 'gender' column and cast to integer type\n",
    "data_test['gender'] = data_test['gender'].replace(gender_mapping).astype('int64')"
   ]
  },
  {
   "cell_type": "code",
   "execution_count": 11,
   "metadata": {},
   "outputs": [
    {
     "name": "stdout",
     "output_type": "stream",
     "text": [
      "<class 'pandas.core.frame.DataFrame'>\n",
      "RangeIndex: 10630 entries, 0 to 10629\n",
      "Data columns (total 9 columns):\n",
      " #   Column                Non-Null Count  Dtype  \n",
      "---  ------                --------------  -----  \n",
      " 0   subject_id            10630 non-null  int64  \n",
      " 1   hadm_id               10630 non-null  int64  \n",
      " 2   stay_id               10630 non-null  int64  \n",
      " 3   gender                10630 non-null  int64  \n",
      " 4   race                  10630 non-null  object \n",
      " 5   admission_age         10630 non-null  int64  \n",
      " 6   los_icu               10630 non-null  float64\n",
      " 7   hospital_expire_flag  10630 non-null  int64  \n",
      " 8   first_icu_stay        10630 non-null  object \n",
      "dtypes: float64(1), int64(6), object(2)\n",
      "memory usage: 747.6+ KB\n",
      "None\n"
     ]
    }
   ],
   "source": [
    "print(data_test.info())"
   ]
  },
  {
   "cell_type": "markdown",
   "metadata": {},
   "source": [
    "## Data treatment for the race column"
   ]
  },
  {
   "cell_type": "code",
   "execution_count": 12,
   "metadata": {},
   "outputs": [
    {
     "name": "stdout",
     "output_type": "stream",
     "text": [
      "['WHITE' 'BLACK/AFRICAN AMERICAN' 'PORTUGUESE' 'BLACK/CAPE VERDEAN'\n",
      " 'WHITE - OTHER EUROPEAN' 'WHITE - BRAZILIAN' 'BLACK/AFRICAN'\n",
      " 'BLACK/CARIBBEAN ISLAND' 'ASIAN' 'UNKNOWN' 'HISPANIC OR LATINO'\n",
      " 'HISPANIC/LATINO - PUERTO RICAN' 'ASIAN - CHINESE' 'OTHER'\n",
      " 'NATIVE HAWAIIAN OR OTHER PACIFIC ISLANDER' 'WHITE - EASTERN EUROPEAN'\n",
      " 'HISPANIC/LATINO - DOMINICAN' 'HISPANIC/LATINO - CENTRAL AMERICAN'\n",
      " 'HISPANIC/LATINO - COLUMBIAN' 'ASIAN - ASIAN INDIAN'\n",
      " 'PATIENT DECLINED TO ANSWER' 'WHITE - RUSSIAN' 'ASIAN - SOUTH EAST ASIAN'\n",
      " 'HISPANIC/LATINO - GUATEMALAN' 'UNABLE TO OBTAIN'\n",
      " 'HISPANIC/LATINO - HONDURAN' 'AMERICAN INDIAN/ALASKA NATIVE'\n",
      " 'ASIAN - KOREAN' 'SOUTH AMERICAN' 'HISPANIC/LATINO - CUBAN'\n",
      " 'MULTIPLE RACE/ETHNICITY' 'HISPANIC/LATINO - SALVADORAN'\n",
      " 'HISPANIC/LATINO - MEXICAN']\n"
     ]
    }
   ],
   "source": [
    "# Display unique values in the 'race' column\n",
    "print(data_test['race'].unique())\n",
    "\n"
   ]
  },
  {
   "cell_type": "code",
   "execution_count": 13,
   "metadata": {},
   "outputs": [
    {
     "name": "stderr",
     "output_type": "stream",
     "text": [
      "C:\\Users\\JOHAN\\AppData\\Local\\Temp\\ipykernel_1168\\2084549982.py:44: FutureWarning: Downcasting behavior in `replace` is deprecated and will be removed in a future version. To retain the old behavior, explicitly call `result.infer_objects(copy=False)`. To opt-in to the future behavior, set `pd.set_option('future.no_silent_downcasting', True)`\n",
      "  data_test['race'] = data_test['race'].replace(ethnicity_mapping)\n"
     ]
    }
   ],
   "source": [
    "# Define a mapping for the ethnicity values\n",
    "ethnicity_mapping = {\n",
    "    'WHITE': 0,\n",
    "    'WHITE - OTHER EUROPEAN': 0,\n",
    "    'WHITE - BRAZILIAN': 0,\n",
    "    'WHITE - EASTERN EUROPEAN': 0,\n",
    "    'WHITE - RUSSIAN': 0,\n",
    "    \n",
    "    'BLACK/AFRICAN AMERICAN': 2,\n",
    "    'BLACK/CAPE VERDEAN': 2,\n",
    "    'BLACK/AFRICAN': 2,\n",
    "    'BLACK/CARIBBEAN ISLAND': 2,\n",
    "    \n",
    "    'ASIAN': 1,\n",
    "    'ASIAN - CHINESE': 1,\n",
    "    'ASIAN - ASIAN INDIAN': 1,\n",
    "    'ASIAN - SOUTH EAST ASIAN': 1,\n",
    "    'ASIAN - KOREAN': 1,\n",
    "    \n",
    "    'HISPANIC OR LATINO': 3,\n",
    "    'HISPANIC/LATINO - PUERTO RICAN': 3,\n",
    "    'HISPANIC/LATINO - DOMINICAN': 3,\n",
    "    'HISPANIC/LATINO - CENTRAL AMERICAN': 3,\n",
    "    'HISPANIC/LATINO - COLUMBIAN': 3,\n",
    "    'HISPANIC/LATINO - GUATEMALAN': 3,\n",
    "    'HISPANIC/LATINO - HONDURAN': 3,\n",
    "    'HISPANIC/LATINO - CUBAN': 3,\n",
    "    'HISPANIC/LATINO - SALVADORAN': 3,\n",
    "    'HISPANIC/LATINO - MEXICAN': 3,\n",
    "    'SOUTH AMERICAN': 3,\n",
    "    \n",
    "    'AMERICAN INDIAN/ALASKA NATIVE': 4,\n",
    "    \n",
    "    'NATIVE HAWAIIAN OR OTHER PACIFIC ISLANDER': 5,\n",
    "    'PORTUGUESE': 5,\n",
    "    'UNKNOWN': 5,\n",
    "    'OTHER': 5,\n",
    "    'PATIENT DECLINED TO ANSWER': 5,\n",
    "    'UNABLE TO OBTAIN': 5,\n",
    "    'MULTIPLE RACE/ETHNICITY': 5\n",
    "}\n",
    "\n",
    "# Replace values in the 'race' column using the mapping\n",
    "data_test['race'] = data_test['race'].replace(ethnicity_mapping)"
   ]
  },
  {
   "cell_type": "markdown",
   "metadata": {},
   "source": [
    "## Filtering ICU Stay Data: Retaining Only Initial ICU Admissions"
   ]
  },
  {
   "cell_type": "code",
   "execution_count": 14,
   "metadata": {},
   "outputs": [
    {
     "name": "stdout",
     "output_type": "stream",
     "text": [
      "['t' 'f']\n"
     ]
    }
   ],
   "source": [
    "print(data_test['first_icu_stay'].unique())"
   ]
  },
  {
   "cell_type": "code",
   "execution_count": 15,
   "metadata": {},
   "outputs": [],
   "source": [
    "# Keep only the rows where first_icu_stay is 't'\n",
    "data_test = data_test[data_test['first_icu_stay'] == 't']\n",
    "data_test = data_test.drop(columns=['hadm_id'])\n",
    "data_test = data_test.drop(columns=['first_icu_stay'])"
   ]
  },
  {
   "cell_type": "markdown",
   "metadata": {},
   "source": [
    "## Renaming columns and adjusting data types"
   ]
  },
  {
   "cell_type": "code",
   "execution_count": 16,
   "metadata": {},
   "outputs": [],
   "source": [
    "# Renaming columns\n",
    "data_test = data_test.rename(columns={\n",
    "    'gender': 'sex',\n",
    "    'admission_age' : 'age',\n",
    "})\n"
   ]
  },
  {
   "cell_type": "code",
   "execution_count": 17,
   "metadata": {},
   "outputs": [
    {
     "name": "stdout",
     "output_type": "stream",
     "text": [
      "<class 'pandas.core.frame.DataFrame'>\n",
      "RangeIndex: 7511 entries, 0 to 7510\n",
      "Data columns (total 7 columns):\n",
      " #   Column                Non-Null Count  Dtype  \n",
      "---  ------                --------------  -----  \n",
      " 0   subject_id            7511 non-null   int64  \n",
      " 1   stay_id               7511 non-null   int64  \n",
      " 2   sex                   7511 non-null   int64  \n",
      " 3   race                  7511 non-null   int64  \n",
      " 4   age                   7511 non-null   int64  \n",
      " 5   los_icu               7511 non-null   float64\n",
      " 6   hospital_expire_flag  7511 non-null   int64  \n",
      "dtypes: float64(1), int64(6)\n",
      "memory usage: 410.9 KB\n",
      "None\n"
     ]
    }
   ],
   "source": [
    "data_test = data_test.merge(data_test8[['stay_id']], on=['stay_id'], how='inner')\n",
    "print(data_test.info())"
   ]
  },
  {
   "cell_type": "markdown",
   "metadata": {},
   "source": [
    "## Reviewing vital signs data from the MIMIC-IV dataset"
   ]
  },
  {
   "cell_type": "code",
   "execution_count": 21,
   "metadata": {},
   "outputs": [
    {
     "name": "stdout",
     "output_type": "stream",
     "text": [
      "   subject_id   stay_id  heart_rate_min  heart_rate_max  heart_rate_mean  \\\n",
      "0    10000690  37081114            81.0           137.0        99.961538   \n",
      "1    10001884  37510196            63.0            73.0        67.458333   \n",
      "2    10002155  33685454            69.0           108.0        90.269231   \n",
      "3    10002348  32610785            49.0           103.0        69.750000   \n",
      "4    10002428  38875437            82.0           107.0        92.500000   \n",
      "\n",
      "   sbp_min  sbp_max    sbp_mean  dbp_min  dbp_max  ...   mbp_mean  \\\n",
      "0    110.0    179.0  137.200000     43.0    137.0  ...  83.880000   \n",
      "1     93.0    138.0  119.416667     53.0    110.0  ...  84.500000   \n",
      "2     87.0    127.0  103.791667     39.0     65.0  ...  62.125000   \n",
      "3     96.0    137.0  119.888889     50.0    105.0  ...  87.444444   \n",
      "4     93.0    162.0  117.980769     51.0    156.0  ...  89.560000   \n",
      "\n",
      "   resp_rate_min  resp_rate_max  resp_rate_mean  temperature_min  \\\n",
      "0           19.0           33.0       24.280000            36.11   \n",
      "1           12.0           21.0       16.645833            36.78   \n",
      "2           10.0           19.0       15.076923            36.06   \n",
      "3           11.0           25.0       18.100000            36.33   \n",
      "4           14.0           28.0       20.125000            36.11   \n",
      "\n",
      "   temperature_max  temperature_mean  spo2_min  spo2_max  spo2_mean  \n",
      "0            38.39         36.790000      86.0     100.0  95.480000  \n",
      "1            37.28         36.906667      92.0     100.0  97.708333  \n",
      "2            36.39         36.195000      82.0      99.0  92.071429  \n",
      "3            37.44         36.943333      90.0      96.0  92.285714  \n",
      "4            37.00         36.591667      98.0     100.0  99.416667  \n",
      "\n",
      "[5 rows x 23 columns]\n"
     ]
    }
   ],
   "source": [
    "print(data_test1.head())"
   ]
  },
  {
   "cell_type": "code",
   "execution_count": 22,
   "metadata": {},
   "outputs": [
    {
     "name": "stdout",
     "output_type": "stream",
     "text": [
      "<class 'pandas.core.frame.DataFrame'>\n",
      "RangeIndex: 10630 entries, 0 to 10629\n",
      "Data columns (total 23 columns):\n",
      " #   Column            Non-Null Count  Dtype  \n",
      "---  ------            --------------  -----  \n",
      " 0   subject_id        10630 non-null  int64  \n",
      " 1   stay_id           10630 non-null  int64  \n",
      " 2   heart_rate_min    10601 non-null  float64\n",
      " 3   heart_rate_max    10601 non-null  float64\n",
      " 4   heart_rate_mean   10601 non-null  float64\n",
      " 5   sbp_min           10590 non-null  float64\n",
      " 6   sbp_max           10590 non-null  float64\n",
      " 7   sbp_mean          10590 non-null  float64\n",
      " 8   dbp_min           10589 non-null  float64\n",
      " 9   dbp_max           10589 non-null  float64\n",
      " 10  dbp_mean          10589 non-null  float64\n",
      " 11  mbp_min           10589 non-null  float64\n",
      " 12  mbp_max           10589 non-null  float64\n",
      " 13  mbp_mean          10589 non-null  float64\n",
      " 14  resp_rate_min     10590 non-null  float64\n",
      " 15  resp_rate_max     10590 non-null  float64\n",
      " 16  resp_rate_mean    10590 non-null  float64\n",
      " 17  temperature_min   10514 non-null  float64\n",
      " 18  temperature_max   10514 non-null  float64\n",
      " 19  temperature_mean  10514 non-null  float64\n",
      " 20  spo2_min          10592 non-null  float64\n",
      " 21  spo2_max          10592 non-null  float64\n",
      " 22  spo2_mean         10592 non-null  float64\n",
      "dtypes: float64(21), int64(2)\n",
      "memory usage: 1.9 MB\n",
      "None\n"
     ]
    }
   ],
   "source": [
    "print(data_test1.info())"
   ]
  },
  {
   "cell_type": "code",
   "execution_count": 23,
   "metadata": {},
   "outputs": [
    {
     "name": "stdout",
     "output_type": "stream",
     "text": [
      "         subject_id       stay_id  heart_rate_min  heart_rate_max  \\\n",
      "count  1.063000e+04  1.063000e+04    10601.000000    10601.000000   \n",
      "mean   1.501466e+07  3.491269e+07       73.480804      104.264692   \n",
      "std    2.873762e+06  2.885487e+06       15.065475       20.145863   \n",
      "min    1.000069e+07  3.000481e+07        8.000000       47.000000   \n",
      "25%    1.257655e+07  3.240168e+07       63.000000       90.000000   \n",
      "50%    1.501426e+07  3.485589e+07       73.000000      103.000000   \n",
      "75%    1.752694e+07  3.740836e+07       83.000000      117.000000   \n",
      "max    1.999984e+07  3.999923e+07      148.000000      227.000000   \n",
      "\n",
      "       heart_rate_mean       sbp_min       sbp_max      sbp_mean  \\\n",
      "count     10601.000000  10590.000000  10590.000000  10590.000000   \n",
      "mean         86.722542     96.497293    147.834136    121.299475   \n",
      "std          15.762451     17.354643     23.019235     17.822366   \n",
      "min          37.652174      9.000000     48.000000     39.166667   \n",
      "25%          75.520000     85.000000    131.000000    107.907828   \n",
      "50%          85.875000     95.000000    146.000000    119.346154   \n",
      "75%          97.416667    107.000000    162.000000    133.442029   \n",
      "max         173.347826    180.000000    336.000000    188.478261   \n",
      "\n",
      "            dbp_min       dbp_max  ...      mbp_mean  resp_rate_min  \\\n",
      "count  10589.000000  10589.000000  ...  10589.000000   10590.000000   \n",
      "mean      48.181698     88.050807  ...     79.875906      13.580123   \n",
      "std       11.498419     20.519718  ...     11.824701       4.081227   \n",
      "min        1.000000     34.000000  ...     27.800000       1.000000   \n",
      "25%       41.000000     74.000000  ...     71.173913      11.000000   \n",
      "50%       47.000000     85.000000  ...     78.516129      13.000000   \n",
      "75%       55.000000     98.000000  ...     87.444444      16.000000   \n",
      "max      109.000000    255.000000  ...    135.238095      35.000000   \n",
      "\n",
      "       resp_rate_max  resp_rate_mean  temperature_min  temperature_max  \\\n",
      "count   10590.000000    10590.000000     10514.000000     10514.000000   \n",
      "mean       28.934042       20.406959        36.495312        37.387237   \n",
      "std         6.687637        4.345980         0.509169         0.662873   \n",
      "min        11.000000        7.214286        27.220000        33.800000   \n",
      "25%        24.000000       17.320000        36.330000        36.940000   \n",
      "50%        28.000000       19.979167        36.560000        37.220000   \n",
      "75%        32.000000       23.083333        36.780000        37.700000   \n",
      "max        69.000000       44.083333        39.280000        41.900000   \n",
      "\n",
      "       temperature_mean      spo2_min      spo2_max     spo2_mean  \n",
      "count      10514.000000  10592.000000  10592.000000  10592.000000  \n",
      "mean          36.925662     91.585565     99.261235     96.531194  \n",
      "std            0.476225      5.902051      1.326792      2.171605  \n",
      "min           30.057273      1.000000     75.000000     65.361111  \n",
      "25%           36.666667     90.000000     99.000000     95.304348  \n",
      "50%           36.890000     92.000000    100.000000     96.708333  \n",
      "75%           37.168333     95.000000    100.000000     98.077692  \n",
      "max           39.796667    100.000000    100.000000    100.000000  \n",
      "\n",
      "[8 rows x 23 columns]\n"
     ]
    }
   ],
   "source": [
    "print(data_test1.describe())"
   ]
  },
  {
   "cell_type": "code",
   "execution_count": 24,
   "metadata": {},
   "outputs": [
    {
     "name": "stdout",
     "output_type": "stream",
     "text": [
      "<class 'pandas.core.frame.DataFrame'>\n",
      "RangeIndex: 7511 entries, 0 to 7510\n",
      "Data columns (total 23 columns):\n",
      " #   Column            Non-Null Count  Dtype  \n",
      "---  ------            --------------  -----  \n",
      " 0   subject_id        7511 non-null   int64  \n",
      " 1   stay_id           7511 non-null   int64  \n",
      " 2   heart_rate_min    7483 non-null   float64\n",
      " 3   heart_rate_max    7483 non-null   float64\n",
      " 4   heart_rate_mean   7483 non-null   float64\n",
      " 5   sbp_min           7473 non-null   float64\n",
      " 6   sbp_max           7473 non-null   float64\n",
      " 7   sbp_mean          7473 non-null   float64\n",
      " 8   dbp_min           7472 non-null   float64\n",
      " 9   dbp_max           7472 non-null   float64\n",
      " 10  dbp_mean          7472 non-null   float64\n",
      " 11  mbp_min           7472 non-null   float64\n",
      " 12  mbp_max           7472 non-null   float64\n",
      " 13  mbp_mean          7472 non-null   float64\n",
      " 14  resp_rate_min     7477 non-null   float64\n",
      " 15  resp_rate_max     7477 non-null   float64\n",
      " 16  resp_rate_mean    7477 non-null   float64\n",
      " 17  temperature_min   7436 non-null   float64\n",
      " 18  temperature_max   7436 non-null   float64\n",
      " 19  temperature_mean  7436 non-null   float64\n",
      " 20  spo2_min          7475 non-null   float64\n",
      " 21  spo2_max          7475 non-null   float64\n",
      " 22  spo2_mean         7475 non-null   float64\n",
      "dtypes: float64(21), int64(2)\n",
      "memory usage: 1.3 MB\n",
      "None\n"
     ]
    }
   ],
   "source": [
    "data_test1 = data_test1.merge(data_test8[['stay_id']], on=['stay_id'], how='inner')\n",
    "print(data_test1.info())"
   ]
  },
  {
   "cell_type": "markdown",
   "metadata": {},
   "source": [
    "## Removing columns with less than 80% non-null values in a DataFrame"
   ]
  },
  {
   "cell_type": "code",
   "execution_count": 25,
   "metadata": {},
   "outputs": [
    {
     "name": "stdout",
     "output_type": "stream",
     "text": [
      "<class 'pandas.core.frame.DataFrame'>\n",
      "RangeIndex: 7511 entries, 0 to 7510\n",
      "Data columns (total 23 columns):\n",
      " #   Column            Non-Null Count  Dtype  \n",
      "---  ------            --------------  -----  \n",
      " 0   subject_id        7511 non-null   int64  \n",
      " 1   stay_id           7511 non-null   int64  \n",
      " 2   heart_rate_min    7483 non-null   float64\n",
      " 3   heart_rate_max    7483 non-null   float64\n",
      " 4   heart_rate_mean   7483 non-null   float64\n",
      " 5   sbp_min           7473 non-null   float64\n",
      " 6   sbp_max           7473 non-null   float64\n",
      " 7   sbp_mean          7473 non-null   float64\n",
      " 8   dbp_min           7472 non-null   float64\n",
      " 9   dbp_max           7472 non-null   float64\n",
      " 10  dbp_mean          7472 non-null   float64\n",
      " 11  mbp_min           7472 non-null   float64\n",
      " 12  mbp_max           7472 non-null   float64\n",
      " 13  mbp_mean          7472 non-null   float64\n",
      " 14  resp_rate_min     7477 non-null   float64\n",
      " 15  resp_rate_max     7477 non-null   float64\n",
      " 16  resp_rate_mean    7477 non-null   float64\n",
      " 17  temperature_min   7436 non-null   float64\n",
      " 18  temperature_max   7436 non-null   float64\n",
      " 19  temperature_mean  7436 non-null   float64\n",
      " 20  spo2_min          7475 non-null   float64\n",
      " 21  spo2_max          7475 non-null   float64\n",
      " 22  spo2_mean         7475 non-null   float64\n",
      "dtypes: float64(21), int64(2)\n",
      "memory usage: 1.3 MB\n",
      "None\n"
     ]
    }
   ],
   "source": [
    "# Calculate the threshold for non-null values\n",
    "th = 0.80 * len(data_test1)\n",
    "# Remove columns that have fewer than 'threshold' non-null values\n",
    "data_test1 = data_test1.loc[:, data_test1.notnull().sum() >= th]\n",
    "print(data_test1.info())"
   ]
  },
  {
   "cell_type": "markdown",
   "metadata": {},
   "source": [
    "## Reviewing laboratory data from the MIMIC-IV dataset"
   ]
  },
  {
   "cell_type": "code",
   "execution_count": 26,
   "metadata": {},
   "outputs": [
    {
     "name": "stdout",
     "output_type": "stream",
     "text": [
      "   subject_id   stay_id  lactate_min  lactate_max  hematocrit_min  \\\n",
      "0    17244693  30004811          3.0          3.0            23.2   \n",
      "1    15850686  30005000          1.0          2.0            26.7   \n",
      "2    17445720  30005199          NaN          NaN            25.5   \n",
      "3    14569364  30005707          NaN          NaN            38.8   \n",
      "4    15524760  30006565          NaN          NaN            36.7   \n",
      "\n",
      "   hematocrit_max  hemoglobin_min  hemoglobin_max  platelets_min  \\\n",
      "0            28.8             8.8             9.3          104.0   \n",
      "1            29.5             8.9            10.1           76.0   \n",
      "2            25.5             8.4             8.4          546.0   \n",
      "3            38.8            13.1            13.1          368.0   \n",
      "4            36.7            12.0            12.0          236.0   \n",
      "\n",
      "   platelets_max  ...  creatinine_min  creatinine_max  glucose_min  \\\n",
      "0          176.0  ...             0.6             0.7         95.0   \n",
      "1           91.0  ...             2.7             3.9         98.0   \n",
      "2          546.0  ...             0.7             0.7        106.0   \n",
      "3          368.0  ...             2.1             2.1        158.0   \n",
      "4          236.0  ...             0.6             0.6         82.0   \n",
      "\n",
      "   glucose_max  sodium_min  sodium_max  potassium_min  potassium_max  \\\n",
      "0        139.0       137.0       137.0            5.2            6.0   \n",
      "1        239.0       136.0       143.0            4.1            4.6   \n",
      "2        106.0       128.0       128.0            4.6            4.6   \n",
      "3        158.0       135.0       135.0            4.2            4.2   \n",
      "4         82.0       139.0       139.0            4.1            4.1   \n",
      "\n",
      "   bilirubin_min  bilirubin_max  \n",
      "0            NaN            NaN  \n",
      "1           11.2           13.4  \n",
      "2            NaN            NaN  \n",
      "3            NaN            NaN  \n",
      "4            NaN            NaN  \n",
      "\n",
      "[5 rows x 34 columns]\n"
     ]
    }
   ],
   "source": [
    "print(data_test2.head())"
   ]
  },
  {
   "cell_type": "code",
   "execution_count": 27,
   "metadata": {},
   "outputs": [
    {
     "name": "stdout",
     "output_type": "stream",
     "text": [
      "<class 'pandas.core.frame.DataFrame'>\n",
      "RangeIndex: 10630 entries, 0 to 10629\n",
      "Data columns (total 34 columns):\n",
      " #   Column           Non-Null Count  Dtype  \n",
      "---  ------           --------------  -----  \n",
      " 0   subject_id       10630 non-null  int64  \n",
      " 1   stay_id          10630 non-null  int64  \n",
      " 2   lactate_min      2597 non-null   float64\n",
      " 3   lactate_max      2597 non-null   float64\n",
      " 4   hematocrit_min   10232 non-null  float64\n",
      " 5   hematocrit_max   10232 non-null  float64\n",
      " 6   hemoglobin_min   10223 non-null  float64\n",
      " 7   hemoglobin_max   10223 non-null  float64\n",
      " 8   platelets_min    10222 non-null  float64\n",
      " 9   platelets_max    10222 non-null  float64\n",
      " 10  wbc_min          10226 non-null  float64\n",
      " 11  wbc_max          10226 non-null  float64\n",
      " 12  albumin_min      1880 non-null   float64\n",
      " 13  albumin_max      1880 non-null   float64\n",
      " 14  aniongap_min     10289 non-null  float64\n",
      " 15  aniongap_max     10289 non-null  float64\n",
      " 16  bicarbonate_min  10293 non-null  float64\n",
      " 17  bicarbonate_max  10293 non-null  float64\n",
      " 18  bun_min          10290 non-null  float64\n",
      " 19  bun_max          10290 non-null  float64\n",
      " 20  calcium_min      10061 non-null  float64\n",
      " 21  calcium_max      10061 non-null  float64\n",
      " 22  chloride_min     10298 non-null  float64\n",
      " 23  chloride_max     10298 non-null  float64\n",
      " 24  creatinine_min   10289 non-null  float64\n",
      " 25  creatinine_max   10289 non-null  float64\n",
      " 26  glucose_min      10288 non-null  float64\n",
      " 27  glucose_max      10288 non-null  float64\n",
      " 28  sodium_min       10304 non-null  float64\n",
      " 29  sodium_max       10304 non-null  float64\n",
      " 30  potassium_min    10298 non-null  float64\n",
      " 31  potassium_max    10298 non-null  float64\n",
      " 32  bilirubin_min    3862 non-null   float64\n",
      " 33  bilirubin_max    3862 non-null   float64\n",
      "dtypes: float64(32), int64(2)\n",
      "memory usage: 2.8 MB\n",
      "None\n"
     ]
    }
   ],
   "source": [
    "print(data_test2.info())"
   ]
  },
  {
   "cell_type": "code",
   "execution_count": 28,
   "metadata": {},
   "outputs": [
    {
     "name": "stdout",
     "output_type": "stream",
     "text": [
      "         subject_id       stay_id  lactate_min  lactate_max  hematocrit_min  \\\n",
      "count  1.063000e+04  1.063000e+04  2597.000000  2597.000000    10232.000000   \n",
      "mean   1.501466e+07  3.491269e+07     1.814405     2.370905       29.548466   \n",
      "std    2.873762e+06  2.885487e+06     1.589061     2.485989        5.644543   \n",
      "min    1.000069e+07  3.000481e+07     0.100000     0.200000        9.300000   \n",
      "25%    1.257655e+07  3.240168e+07     1.000000     1.100000       25.400000   \n",
      "50%    1.501426e+07  3.485589e+07     1.400000     1.500000       28.900000   \n",
      "75%    1.752694e+07  3.740836e+07     2.000000     2.600000       33.000000   \n",
      "max    1.999984e+07  3.999923e+07    18.300000    28.000000       61.400000   \n",
      "\n",
      "       hematocrit_max  hemoglobin_min  hemoglobin_max  platelets_min  \\\n",
      "count    10232.000000    10223.000000    10223.000000   10222.000000   \n",
      "mean        30.363937        9.649633        9.870107     219.523283   \n",
      "std          5.363827        1.892006        1.823733     142.370258   \n",
      "min         11.600000        2.900000        3.800000       5.000000   \n",
      "25%         26.300000        8.200000        8.500000     125.000000   \n",
      "50%         29.500000        9.400000        9.600000     192.000000   \n",
      "75%         33.500000       10.800000       11.000000     282.000000   \n",
      "max         61.400000       18.800000       18.800000    1872.000000   \n",
      "\n",
      "       platelets_max  ...  creatinine_min  creatinine_max   glucose_min  \\\n",
      "count   10222.000000  ...    10289.000000    10289.000000  10288.000000   \n",
      "mean      225.898846  ...        1.458908        1.558840    126.482698   \n",
      "std       142.691505  ...        1.495854        1.604138     43.953158   \n",
      "min         6.000000  ...        0.100000        0.100000     15.000000   \n",
      "25%       130.000000  ...        0.700000        0.700000     98.000000   \n",
      "50%       199.000000  ...        1.000000        1.000000    117.000000   \n",
      "75%       288.000000  ...        1.600000        1.700000    143.000000   \n",
      "max      1872.000000  ...       18.700000       19.400000    623.000000   \n",
      "\n",
      "        glucose_max    sodium_min    sodium_max  potassium_min  potassium_max  \\\n",
      "count  10288.000000  10304.000000  10304.000000   10298.000000   10298.000000   \n",
      "mean     145.609156    138.771545    140.008443       3.926170       4.165420   \n",
      "std       73.376060      5.520859      5.530029       0.538793       0.636112   \n",
      "min       31.000000     98.000000    113.000000       1.600000       2.500000   \n",
      "25%      106.000000    136.000000    137.000000       3.600000       3.800000   \n",
      "50%      129.000000    139.000000    140.000000       3.900000       4.100000   \n",
      "75%      163.000000    142.000000    143.000000       4.200000       4.400000   \n",
      "max     1780.000000    171.000000    179.000000       7.700000       9.900000   \n",
      "\n",
      "       bilirubin_min  bilirubin_max  \n",
      "count    3862.000000    3862.000000  \n",
      "mean        2.689617       2.766002  \n",
      "std         5.331457       5.416612  \n",
      "min         0.100000       0.100000  \n",
      "25%         0.400000       0.400000  \n",
      "50%         0.800000       0.800000  \n",
      "75%         2.200000       2.300000  \n",
      "max        51.100000      51.100000  \n",
      "\n",
      "[8 rows x 34 columns]\n"
     ]
    }
   ],
   "source": [
    "print(data_test2.describe())"
   ]
  },
  {
   "cell_type": "code",
   "execution_count": 29,
   "metadata": {},
   "outputs": [
    {
     "name": "stdout",
     "output_type": "stream",
     "text": [
      "<class 'pandas.core.frame.DataFrame'>\n",
      "RangeIndex: 7511 entries, 0 to 7510\n",
      "Data columns (total 34 columns):\n",
      " #   Column           Non-Null Count  Dtype  \n",
      "---  ------           --------------  -----  \n",
      " 0   subject_id       7511 non-null   int64  \n",
      " 1   stay_id          7511 non-null   int64  \n",
      " 2   lactate_min      1510 non-null   float64\n",
      " 3   lactate_max      1510 non-null   float64\n",
      " 4   hematocrit_min   7181 non-null   float64\n",
      " 5   hematocrit_max   7181 non-null   float64\n",
      " 6   hemoglobin_min   7176 non-null   float64\n",
      " 7   hemoglobin_max   7176 non-null   float64\n",
      " 8   platelets_min    7176 non-null   float64\n",
      " 9   platelets_max    7176 non-null   float64\n",
      " 10  wbc_min          7178 non-null   float64\n",
      " 11  wbc_max          7178 non-null   float64\n",
      " 12  albumin_min      1227 non-null   float64\n",
      " 13  albumin_max      1227 non-null   float64\n",
      " 14  aniongap_min     7230 non-null   float64\n",
      " 15  aniongap_max     7230 non-null   float64\n",
      " 16  bicarbonate_min  7233 non-null   float64\n",
      " 17  bicarbonate_max  7233 non-null   float64\n",
      " 18  bun_min          7229 non-null   float64\n",
      " 19  bun_max          7229 non-null   float64\n",
      " 20  calcium_min      7076 non-null   float64\n",
      " 21  calcium_max      7076 non-null   float64\n",
      " 22  chloride_min     7235 non-null   float64\n",
      " 23  chloride_max     7235 non-null   float64\n",
      " 24  creatinine_min   7227 non-null   float64\n",
      " 25  creatinine_max   7227 non-null   float64\n",
      " 26  glucose_min      7226 non-null   float64\n",
      " 27  glucose_max      7226 non-null   float64\n",
      " 28  sodium_min       7241 non-null   float64\n",
      " 29  sodium_max       7241 non-null   float64\n",
      " 30  potassium_min    7235 non-null   float64\n",
      " 31  potassium_max    7235 non-null   float64\n",
      " 32  bilirubin_min    2517 non-null   float64\n",
      " 33  bilirubin_max    2517 non-null   float64\n",
      "dtypes: float64(32), int64(2)\n",
      "memory usage: 1.9 MB\n",
      "None\n"
     ]
    }
   ],
   "source": [
    "data_test2 = data_test2.merge(data_test8[['stay_id']], on=['stay_id'], how='inner')\n",
    "print(data_test2.info())"
   ]
  },
  {
   "cell_type": "markdown",
   "metadata": {},
   "source": [
    "## Removing columns with less than 80% non-null values in a DataFrame"
   ]
  },
  {
   "cell_type": "code",
   "execution_count": 30,
   "metadata": {},
   "outputs": [
    {
     "name": "stdout",
     "output_type": "stream",
     "text": [
      "<class 'pandas.core.frame.DataFrame'>\n",
      "RangeIndex: 7511 entries, 0 to 7510\n",
      "Data columns (total 28 columns):\n",
      " #   Column           Non-Null Count  Dtype  \n",
      "---  ------           --------------  -----  \n",
      " 0   subject_id       7511 non-null   int64  \n",
      " 1   stay_id          7511 non-null   int64  \n",
      " 2   hematocrit_min   7181 non-null   float64\n",
      " 3   hematocrit_max   7181 non-null   float64\n",
      " 4   hemoglobin_min   7176 non-null   float64\n",
      " 5   hemoglobin_max   7176 non-null   float64\n",
      " 6   platelet_min     7176 non-null   float64\n",
      " 7   platelet_max     7176 non-null   float64\n",
      " 8   wbc_min          7178 non-null   float64\n",
      " 9   wbc_max          7178 non-null   float64\n",
      " 10  aniongap_min     7230 non-null   float64\n",
      " 11  aniongap_max     7230 non-null   float64\n",
      " 12  bicarbonate_min  7233 non-null   float64\n",
      " 13  bicarbonate_max  7233 non-null   float64\n",
      " 14  bun_min          7229 non-null   float64\n",
      " 15  bun_max          7229 non-null   float64\n",
      " 16  calcium_min      7076 non-null   float64\n",
      " 17  calcium_max      7076 non-null   float64\n",
      " 18  chloride_min     7235 non-null   float64\n",
      " 19  chloride_max     7235 non-null   float64\n",
      " 20  creatinine_min   7227 non-null   float64\n",
      " 21  creatinine_max   7227 non-null   float64\n",
      " 22  glucose_min      7226 non-null   float64\n",
      " 23  glucose_max      7226 non-null   float64\n",
      " 24  sodium_min       7241 non-null   float64\n",
      " 25  sodium_max       7241 non-null   float64\n",
      " 26  potassium_min    7235 non-null   float64\n",
      " 27  potassium_max    7235 non-null   float64\n",
      "dtypes: float64(26), int64(2)\n",
      "memory usage: 1.6 MB\n",
      "None\n"
     ]
    }
   ],
   "source": [
    "# Calculate the threshold for non-null values\n",
    "th = 0.80 * len(data_test2)\n",
    "# Remove columns that have fewer than 'threshold' non-null values\n",
    "data_test2 = data_test2.loc[:, data_test2.notnull().sum() >= th]\n",
    "data_test2 = data_test2.rename(columns={\n",
    "    'platelets_max': 'platelet_max',\n",
    "    'platelets_min': 'platelet_min'\n",
    "})\n",
    "print(data_test2.info())\n",
    "\n"
   ]
  },
  {
   "cell_type": "markdown",
   "metadata": {},
   "source": [
    "## Reviewing vasopressors data from the MIMIC-IV dataset"
   ]
  },
  {
   "cell_type": "code",
   "execution_count": 31,
   "metadata": {},
   "outputs": [
    {
     "name": "stdout",
     "output_type": "stream",
     "text": [
      "    stay_id  dopamine  epinephrine  norepinephrine  phenylephrine  \\\n",
      "0  35621403         0            0               0              1   \n",
      "1  34746208         0            0               0              0   \n",
      "2  34898026         0            0              11              0   \n",
      "3  30550789         0            0               0              0   \n",
      "4  33240155         0            0               0              0   \n",
      "\n",
      "   vasopressin  dobutamine  milrinone  \n",
      "0            0           0          0  \n",
      "1            0           0          0  \n",
      "2            0           0          0  \n",
      "3            0           0          0  \n",
      "4            0           0          0  \n"
     ]
    }
   ],
   "source": [
    "print(data_test3.head())"
   ]
  },
  {
   "cell_type": "code",
   "execution_count": 32,
   "metadata": {},
   "outputs": [
    {
     "name": "stdout",
     "output_type": "stream",
     "text": [
      "<class 'pandas.core.frame.DataFrame'>\n",
      "RangeIndex: 10630 entries, 0 to 10629\n",
      "Data columns (total 8 columns):\n",
      " #   Column          Non-Null Count  Dtype\n",
      "---  ------          --------------  -----\n",
      " 0   stay_id         10630 non-null  int64\n",
      " 1   dopamine        10630 non-null  int64\n",
      " 2   epinephrine     10630 non-null  int64\n",
      " 3   norepinephrine  10630 non-null  int64\n",
      " 4   phenylephrine   10630 non-null  int64\n",
      " 5   vasopressin     10630 non-null  int64\n",
      " 6   dobutamine      10630 non-null  int64\n",
      " 7   milrinone       10630 non-null  int64\n",
      "dtypes: int64(8)\n",
      "memory usage: 664.5 KB\n",
      "None\n"
     ]
    }
   ],
   "source": [
    "print(data_test3.info())"
   ]
  },
  {
   "cell_type": "code",
   "execution_count": 33,
   "metadata": {},
   "outputs": [
    {
     "name": "stdout",
     "output_type": "stream",
     "text": [
      "            stay_id      dopamine   epinephrine  norepinephrine  \\\n",
      "count  1.063000e+04  10630.000000  10630.000000    10630.000000   \n",
      "mean   3.491269e+07      0.069520      0.120696        1.336500   \n",
      "std    2.885487e+06      1.038067      1.890804        4.478436   \n",
      "min    3.000481e+07      0.000000      0.000000        0.000000   \n",
      "25%    3.240168e+07      0.000000      0.000000        0.000000   \n",
      "50%    3.485589e+07      0.000000      0.000000        0.000000   \n",
      "75%    3.740836e+07      0.000000      0.000000        0.000000   \n",
      "max    3.999923e+07     48.000000     66.000000       69.000000   \n",
      "\n",
      "       phenylephrine   vasopressin    dobutamine     milrinone  \n",
      "count   10630.000000  10630.000000  10630.000000  10630.000000  \n",
      "mean        0.429539      0.480621      0.036689      0.038758  \n",
      "std         2.562287      3.096611      0.681716      0.953527  \n",
      "min         0.000000      0.000000      0.000000      0.000000  \n",
      "25%         0.000000      0.000000      0.000000      0.000000  \n",
      "50%         0.000000      0.000000      0.000000      0.000000  \n",
      "75%         0.000000      0.000000      0.000000      0.000000  \n",
      "max        66.000000     68.000000     25.000000     59.000000  \n"
     ]
    }
   ],
   "source": [
    "print(data_test3.describe())"
   ]
  },
  {
   "cell_type": "code",
   "execution_count": 34,
   "metadata": {},
   "outputs": [
    {
     "name": "stdout",
     "output_type": "stream",
     "text": [
      "<class 'pandas.core.frame.DataFrame'>\n",
      "RangeIndex: 7511 entries, 0 to 7510\n",
      "Data columns (total 8 columns):\n",
      " #   Column          Non-Null Count  Dtype\n",
      "---  ------          --------------  -----\n",
      " 0   stay_id         7511 non-null   int64\n",
      " 1   dopamine        7511 non-null   int64\n",
      " 2   epinephrine     7511 non-null   int64\n",
      " 3   norepinephrine  7511 non-null   int64\n",
      " 4   phenylephrine   7511 non-null   int64\n",
      " 5   vasopressin     7511 non-null   int64\n",
      " 6   dobutamine      7511 non-null   int64\n",
      " 7   milrinone       7511 non-null   int64\n",
      "dtypes: int64(8)\n",
      "memory usage: 469.6 KB\n",
      "None\n"
     ]
    }
   ],
   "source": [
    "data_test3 = data_test3.merge(data_test8[['stay_id']], on=['stay_id'], how='inner')\n",
    "print(data_test3.info())"
   ]
  },
  {
   "cell_type": "markdown",
   "metadata": {},
   "source": [
    "## Reviewing antibiotics data from the MIMIC-IV dataset"
   ]
  },
  {
   "cell_type": "code",
   "execution_count": 35,
   "metadata": {},
   "outputs": [
    {
     "name": "stdout",
     "output_type": "stream",
     "text": [
      "    stay_id  Grupo Cefalosporinas  Grupo Penicilinas  Macrolides  Meropenem  \\\n",
      "0  30004811                     0                  0           0          0   \n",
      "1  30005000                     0                  0           0          0   \n",
      "2  30005199                     0                  0           0          0   \n",
      "3  30005707                     0                  2           0          0   \n",
      "4  30006565                     1                  0           0          0   \n",
      "\n",
      "   Metronidazole  Quinolonas  Vancomycin  other  \n",
      "0              0           0           1      0  \n",
      "1              1           0           1      1  \n",
      "2              0           0           0      1  \n",
      "3              1           0           0      0  \n",
      "4              1           0           1      0  \n"
     ]
    }
   ],
   "source": [
    "print(data_test4.head())"
   ]
  },
  {
   "cell_type": "code",
   "execution_count": 36,
   "metadata": {},
   "outputs": [
    {
     "name": "stdout",
     "output_type": "stream",
     "text": [
      "<class 'pandas.core.frame.DataFrame'>\n",
      "RangeIndex: 10630 entries, 0 to 10629\n",
      "Data columns (total 9 columns):\n",
      " #   Column                Non-Null Count  Dtype\n",
      "---  ------                --------------  -----\n",
      " 0   stay_id               10630 non-null  int64\n",
      " 1   Grupo Cefalosporinas  10630 non-null  int64\n",
      " 2   Grupo Penicilinas     10630 non-null  int64\n",
      " 3   Macrolides            10630 non-null  int64\n",
      " 4   Meropenem             10630 non-null  int64\n",
      " 5   Metronidazole         10630 non-null  int64\n",
      " 6   Quinolonas            10630 non-null  int64\n",
      " 7   Vancomycin            10630 non-null  int64\n",
      " 8   other                 10630 non-null  int64\n",
      "dtypes: int64(9)\n",
      "memory usage: 747.6 KB\n",
      "None\n"
     ]
    }
   ],
   "source": [
    "print(data_test4.info())"
   ]
  },
  {
   "cell_type": "code",
   "execution_count": 37,
   "metadata": {},
   "outputs": [
    {
     "name": "stdout",
     "output_type": "stream",
     "text": [
      "            stay_id  Grupo Cefalosporinas  Grupo Penicilinas    Macrolides  \\\n",
      "count  1.063000e+04          10630.000000       10630.000000  10630.000000   \n",
      "mean   3.491269e+07              0.751082           0.434431      0.147037   \n",
      "std    2.885487e+06              0.923418           0.884197      0.447779   \n",
      "min    3.000481e+07              0.000000           0.000000      0.000000   \n",
      "25%    3.240168e+07              0.000000           0.000000      0.000000   \n",
      "50%    3.485589e+07              0.000000           0.000000      0.000000   \n",
      "75%    3.740836e+07              1.000000           0.000000      0.000000   \n",
      "max    3.999923e+07              5.000000           6.000000      5.000000   \n",
      "\n",
      "          Meropenem  Metronidazole    Quinolonas    Vancomycin         other  \n",
      "count  10630.000000   10630.000000  10630.000000  10630.000000  10630.000000  \n",
      "mean       0.071966       0.172531      0.171778      0.742992      0.359925  \n",
      "std        0.400624       0.436760      0.490414      0.944995      0.601135  \n",
      "min        0.000000       0.000000      0.000000      0.000000      0.000000  \n",
      "25%        0.000000       0.000000      0.000000      0.000000      0.000000  \n",
      "50%        0.000000       0.000000      0.000000      0.000000      0.000000  \n",
      "75%        0.000000       0.000000      0.000000      1.000000      1.000000  \n",
      "max        7.000000       5.000000      4.000000      7.000000      8.000000  \n"
     ]
    }
   ],
   "source": [
    "print(data_test4.describe())"
   ]
  },
  {
   "cell_type": "markdown",
   "metadata": {},
   "source": [
    "## Renaming columns and adjusting data types"
   ]
  },
  {
   "cell_type": "code",
   "execution_count": 38,
   "metadata": {},
   "outputs": [],
   "source": [
    "data_test4 = data_test4.drop(columns=['other'])\n",
    "# Renaming columns\n",
    "data_test4 = data_test4.rename(columns={\n",
    "    'Grupo Cefalosporinas': 'Cefalosporine',\n",
    "    'Grupo Penicilinas': 'Penicillin',\n",
    "    'Macrolides': 'Macrolide',\n",
    "    'Quinolonas' : 'Quinolone',\n",
    "})\n",
    "\n",
    "# Converting specified columns to float64\n",
    "data_test4[['Cefalosporine', 'Penicillin', 'Macrolide', 'Quinolone', 'Meropenem', 'Metronidazole', 'Vancomycin']] = data_test4[['Cefalosporine', 'Penicillin', 'Macrolide', 'Quinolone', 'Meropenem', 'Metronidazole', 'Vancomycin']].astype('float64')\n",
    "\n"
   ]
  },
  {
   "cell_type": "code",
   "execution_count": 39,
   "metadata": {},
   "outputs": [
    {
     "name": "stdout",
     "output_type": "stream",
     "text": [
      "<class 'pandas.core.frame.DataFrame'>\n",
      "RangeIndex: 10630 entries, 0 to 10629\n",
      "Data columns (total 8 columns):\n",
      " #   Column         Non-Null Count  Dtype  \n",
      "---  ------         --------------  -----  \n",
      " 0   stay_id        10630 non-null  int64  \n",
      " 1   Cefalosporine  10630 non-null  float64\n",
      " 2   Penicillin     10630 non-null  float64\n",
      " 3   Macrolide      10630 non-null  float64\n",
      " 4   Meropenem      10630 non-null  float64\n",
      " 5   Metronidazole  10630 non-null  float64\n",
      " 6   Quinolone      10630 non-null  float64\n",
      " 7   Vancomycin     10630 non-null  float64\n",
      "dtypes: float64(7), int64(1)\n",
      "memory usage: 664.5 KB\n",
      "None\n"
     ]
    }
   ],
   "source": [
    "print(data_test4.info())"
   ]
  },
  {
   "cell_type": "code",
   "execution_count": 40,
   "metadata": {},
   "outputs": [
    {
     "name": "stdout",
     "output_type": "stream",
     "text": [
      "<class 'pandas.core.frame.DataFrame'>\n",
      "RangeIndex: 7511 entries, 0 to 7510\n",
      "Data columns (total 8 columns):\n",
      " #   Column         Non-Null Count  Dtype  \n",
      "---  ------         --------------  -----  \n",
      " 0   stay_id        7511 non-null   int64  \n",
      " 1   Cefalosporine  7511 non-null   float64\n",
      " 2   Penicillin     7511 non-null   float64\n",
      " 3   Macrolide      7511 non-null   float64\n",
      " 4   Meropenem      7511 non-null   float64\n",
      " 5   Metronidazole  7511 non-null   float64\n",
      " 6   Quinolone      7511 non-null   float64\n",
      " 7   Vancomycin     7511 non-null   float64\n",
      "dtypes: float64(7), int64(1)\n",
      "memory usage: 469.6 KB\n",
      "None\n"
     ]
    }
   ],
   "source": [
    "data_test4 = data_test4.merge(data_test8[['stay_id']], on=['stay_id'], how='inner')\n",
    "print(data_test4.info())"
   ]
  },
  {
   "cell_type": "markdown",
   "metadata": {},
   "source": [
    "## Reviewing Glasgow Coma Scale (GCS) data from the MIMIC-IV dataset"
   ]
  },
  {
   "cell_type": "code",
   "execution_count": 41,
   "metadata": {},
   "outputs": [
    {
     "name": "stdout",
     "output_type": "stream",
     "text": [
      "   subject_id   stay_id  gcs_min  gcs_motor  gcs_verbal  gcs_eyes\n",
      "0    17244693  30004811     15.0        1.0         0.0       1.0\n",
      "1    15850686  30005000     14.0        6.0         4.0       4.0\n",
      "2    17445720  30005199     15.0        6.0         5.0       4.0\n",
      "3    14569364  30005707     15.0        6.0         5.0       4.0\n",
      "4    15524760  30006565     15.0        6.0         0.0       4.0\n"
     ]
    }
   ],
   "source": [
    "print(data_test5.head())"
   ]
  },
  {
   "cell_type": "code",
   "execution_count": 42,
   "metadata": {},
   "outputs": [
    {
     "name": "stdout",
     "output_type": "stream",
     "text": [
      "<class 'pandas.core.frame.DataFrame'>\n",
      "RangeIndex: 10630 entries, 0 to 10629\n",
      "Data columns (total 6 columns):\n",
      " #   Column      Non-Null Count  Dtype  \n",
      "---  ------      --------------  -----  \n",
      " 0   subject_id  10630 non-null  int64  \n",
      " 1   stay_id     10630 non-null  int64  \n",
      " 2   gcs_min     10597 non-null  float64\n",
      " 3   gcs_motor   10552 non-null  float64\n",
      " 4   gcs_verbal  10560 non-null  float64\n",
      " 5   gcs_eyes    10581 non-null  float64\n",
      "dtypes: float64(4), int64(2)\n",
      "memory usage: 498.4 KB\n",
      "None\n"
     ]
    }
   ],
   "source": [
    "print(data_test5.info())"
   ]
  },
  {
   "cell_type": "code",
   "execution_count": 43,
   "metadata": {},
   "outputs": [
    {
     "name": "stdout",
     "output_type": "stream",
     "text": [
      "         subject_id       stay_id       gcs_min     gcs_motor    gcs_verbal  \\\n",
      "count  1.063000e+04  1.063000e+04  10597.000000  10552.000000  10560.000000   \n",
      "mean   1.501466e+07  3.491269e+07     13.421629      5.394996      3.208902   \n",
      "std    2.873762e+06  2.885487e+06      2.500211      1.318620      1.977024   \n",
      "min    1.000069e+07  3.000481e+07      3.000000      1.000000      0.000000   \n",
      "25%    1.257655e+07  3.240168e+07     13.000000      5.000000      1.000000   \n",
      "50%    1.501426e+07  3.485589e+07     14.000000      6.000000      4.000000   \n",
      "75%    1.752694e+07  3.740836e+07     15.000000      6.000000      5.000000   \n",
      "max    1.999984e+07  3.999923e+07     15.000000      6.000000      5.000000   \n",
      "\n",
      "           gcs_eyes  \n",
      "count  10581.000000  \n",
      "mean       3.334656  \n",
      "std        0.929153  \n",
      "min        1.000000  \n",
      "25%        3.000000  \n",
      "50%        4.000000  \n",
      "75%        4.000000  \n",
      "max        4.000000  \n"
     ]
    }
   ],
   "source": [
    "print(data_test5.describe())"
   ]
  },
  {
   "cell_type": "code",
   "execution_count": 44,
   "metadata": {},
   "outputs": [
    {
     "name": "stdout",
     "output_type": "stream",
     "text": [
      "<class 'pandas.core.frame.DataFrame'>\n",
      "RangeIndex: 7511 entries, 0 to 7510\n",
      "Data columns (total 6 columns):\n",
      " #   Column      Non-Null Count  Dtype  \n",
      "---  ------      --------------  -----  \n",
      " 0   subject_id  7511 non-null   int64  \n",
      " 1   stay_id     7511 non-null   int64  \n",
      " 2   gcs_min     7479 non-null   float64\n",
      " 3   gcs_motor   7452 non-null   float64\n",
      " 4   gcs_verbal  7454 non-null   float64\n",
      " 5   gcs_eyes    7466 non-null   float64\n",
      "dtypes: float64(4), int64(2)\n",
      "memory usage: 352.2 KB\n",
      "None\n"
     ]
    }
   ],
   "source": [
    "data_test5 = data_test5.merge(data_test8[['stay_id']], on=['stay_id'], how='inner')\n",
    "print(data_test5.info())"
   ]
  },
  {
   "cell_type": "markdown",
   "metadata": {},
   "source": [
    "## Reviewing urineoutput data from the MIMIC-IV dataset"
   ]
  },
  {
   "cell_type": "code",
   "execution_count": 45,
   "metadata": {},
   "outputs": [
    {
     "name": "stdout",
     "output_type": "stream",
     "text": [
      "<class 'pandas.core.frame.DataFrame'>\n",
      "RangeIndex: 7511 entries, 0 to 7510\n",
      "Data columns (total 3 columns):\n",
      " #   Column       Non-Null Count  Dtype  \n",
      "---  ------       --------------  -----  \n",
      " 0   subject_id   7511 non-null   int64  \n",
      " 1   stay_id      7511 non-null   int64  \n",
      " 2   urineoutput  6995 non-null   float64\n",
      "dtypes: float64(1), int64(2)\n",
      "memory usage: 176.2 KB\n",
      "None\n"
     ]
    }
   ],
   "source": [
    "data_test6 = data_test6.merge(data_test8[['stay_id']], on=['stay_id'], how='inner')\n",
    "print(data_test6.info())"
   ]
  },
  {
   "cell_type": "markdown",
   "metadata": {},
   "source": [
    "## Reviewing SOFA data from the MIMIC-IV dataset"
   ]
  },
  {
   "cell_type": "code",
   "execution_count": 46,
   "metadata": {},
   "outputs": [
    {
     "name": "stdout",
     "output_type": "stream",
     "text": [
      "<class 'pandas.core.frame.DataFrame'>\n",
      "RangeIndex: 7511 entries, 0 to 7510\n",
      "Data columns (total 3 columns):\n",
      " #   Column      Non-Null Count  Dtype\n",
      "---  ------      --------------  -----\n",
      " 0   subject_id  7511 non-null   int64\n",
      " 1   stay_id     7511 non-null   int64\n",
      " 2   sofa        7511 non-null   int64\n",
      "dtypes: int64(3)\n",
      "memory usage: 176.2 KB\n",
      "None\n"
     ]
    }
   ],
   "source": [
    "data_test7 = data_test7.merge(data_test8[['stay_id']], on=['stay_id'], how='inner')\n",
    "data_test7 = data_test7.drop(columns=['hadm_id'])\n",
    "print(data_test7.info())"
   ]
  },
  {
   "cell_type": "code",
   "execution_count": 47,
   "metadata": {},
   "outputs": [],
   "source": [
    "# Start with 'df1', containing the columns 'stay_id', 'hospital_expire_flag', 'age', 'sex', 'race', and 'los_icu'\n",
    "# We exclude 'subject_id' here as it is not needed for merging\n",
    "merged_df = data_test[['stay_id', 'hospital_expire_flag', 'age', 'sex', 'race', 'los_icu']]\n",
    "\n",
    "# Iterate through the remaining dataframes (df2 to df8)\n",
    "# Remove 'subject_id' from each dataframe if it exists, and then merge with 'merged_df' using 'stay_id' as the key\n",
    "for df in [data_test1, data_test2, data_test3, data_test4, data_test5, data_test6, data_test7]:\n",
    "    if 'subject_id' in df.columns:\n",
    "        df = df.drop(columns=['subject_id'])  # Remove 'subject_id' if present\n",
    "    merged_df = merged_df.merge(df, on=['stay_id'], how='inner')\n",
    "\n",
    "\n"
   ]
  },
  {
   "cell_type": "code",
   "execution_count": 48,
   "metadata": {},
   "outputs": [
    {
     "name": "stdout",
     "output_type": "stream",
     "text": [
      "<class 'pandas.core.frame.DataFrame'>\n",
      "RangeIndex: 7511 entries, 0 to 7510\n",
      "Data columns (total 73 columns):\n",
      " #   Column                Non-Null Count  Dtype  \n",
      "---  ------                --------------  -----  \n",
      " 0   stay_id               7511 non-null   int64  \n",
      " 1   hospital_expire_flag  7511 non-null   int64  \n",
      " 2   age                   7511 non-null   int64  \n",
      " 3   sex                   7511 non-null   int64  \n",
      " 4   race                  7511 non-null   int64  \n",
      " 5   los_icu               7511 non-null   float64\n",
      " 6   heart_rate_min        7483 non-null   float64\n",
      " 7   heart_rate_max        7483 non-null   float64\n",
      " 8   heart_rate_mean       7483 non-null   float64\n",
      " 9   sbp_min               7473 non-null   float64\n",
      " 10  sbp_max               7473 non-null   float64\n",
      " 11  sbp_mean              7473 non-null   float64\n",
      " 12  dbp_min               7472 non-null   float64\n",
      " 13  dbp_max               7472 non-null   float64\n",
      " 14  dbp_mean              7472 non-null   float64\n",
      " 15  mbp_min               7472 non-null   float64\n",
      " 16  mbp_max               7472 non-null   float64\n",
      " 17  mbp_mean              7472 non-null   float64\n",
      " 18  resp_rate_min         7477 non-null   float64\n",
      " 19  resp_rate_max         7477 non-null   float64\n",
      " 20  resp_rate_mean        7477 non-null   float64\n",
      " 21  temperature_min       7436 non-null   float64\n",
      " 22  temperature_max       7436 non-null   float64\n",
      " 23  temperature_mean      7436 non-null   float64\n",
      " 24  spo2_min              7475 non-null   float64\n",
      " 25  spo2_max              7475 non-null   float64\n",
      " 26  spo2_mean             7475 non-null   float64\n",
      " 27  hematocrit_min        7181 non-null   float64\n",
      " 28  hematocrit_max        7181 non-null   float64\n",
      " 29  hemoglobin_min        7176 non-null   float64\n",
      " 30  hemoglobin_max        7176 non-null   float64\n",
      " 31  platelet_min          7176 non-null   float64\n",
      " 32  platelet_max          7176 non-null   float64\n",
      " 33  wbc_min               7178 non-null   float64\n",
      " 34  wbc_max               7178 non-null   float64\n",
      " 35  aniongap_min          7230 non-null   float64\n",
      " 36  aniongap_max          7230 non-null   float64\n",
      " 37  bicarbonate_min       7233 non-null   float64\n",
      " 38  bicarbonate_max       7233 non-null   float64\n",
      " 39  bun_min               7229 non-null   float64\n",
      " 40  bun_max               7229 non-null   float64\n",
      " 41  calcium_min           7076 non-null   float64\n",
      " 42  calcium_max           7076 non-null   float64\n",
      " 43  chloride_min          7235 non-null   float64\n",
      " 44  chloride_max          7235 non-null   float64\n",
      " 45  creatinine_min        7227 non-null   float64\n",
      " 46  creatinine_max        7227 non-null   float64\n",
      " 47  glucose_min           7226 non-null   float64\n",
      " 48  glucose_max           7226 non-null   float64\n",
      " 49  sodium_min            7241 non-null   float64\n",
      " 50  sodium_max            7241 non-null   float64\n",
      " 51  potassium_min         7235 non-null   float64\n",
      " 52  potassium_max         7235 non-null   float64\n",
      " 53  dopamine              7511 non-null   int64  \n",
      " 54  epinephrine           7511 non-null   int64  \n",
      " 55  norepinephrine        7511 non-null   int64  \n",
      " 56  phenylephrine         7511 non-null   int64  \n",
      " 57  vasopressin           7511 non-null   int64  \n",
      " 58  dobutamine            7511 non-null   int64  \n",
      " 59  milrinone             7511 non-null   int64  \n",
      " 60  Cefalosporine         7511 non-null   float64\n",
      " 61  Penicillin            7511 non-null   float64\n",
      " 62  Macrolide             7511 non-null   float64\n",
      " 63  Meropenem             7511 non-null   float64\n",
      " 64  Metronidazole         7511 non-null   float64\n",
      " 65  Quinolone             7511 non-null   float64\n",
      " 66  Vancomycin            7511 non-null   float64\n",
      " 67  gcs_min               7479 non-null   float64\n",
      " 68  gcs_motor             7452 non-null   float64\n",
      " 69  gcs_verbal            7454 non-null   float64\n",
      " 70  gcs_eyes              7466 non-null   float64\n",
      " 71  urineoutput           6995 non-null   float64\n",
      " 72  sofa                  7511 non-null   int64  \n",
      "dtypes: float64(60), int64(13)\n",
      "memory usage: 4.2 MB\n",
      "None\n"
     ]
    }
   ],
   "source": [
    "print(merged_df.info())"
   ]
  },
  {
   "cell_type": "code",
   "execution_count": 49,
   "metadata": {},
   "outputs": [
    {
     "name": "stdout",
     "output_type": "stream",
     "text": [
      "Index([], dtype='object')\n",
      "<class 'pandas.core.frame.DataFrame'>\n",
      "RangeIndex: 7511 entries, 0 to 7510\n",
      "Data columns (total 73 columns):\n",
      " #   Column                Non-Null Count  Dtype  \n",
      "---  ------                --------------  -----  \n",
      " 0   stay_id               7511 non-null   int64  \n",
      " 1   hospital_expire_flag  7511 non-null   int64  \n",
      " 2   age                   7511 non-null   int64  \n",
      " 3   sex                   7511 non-null   int64  \n",
      " 4   race                  7511 non-null   int64  \n",
      " 5   los_icu               7511 non-null   float64\n",
      " 6   heart_rate_min        7483 non-null   float64\n",
      " 7   heart_rate_max        7483 non-null   float64\n",
      " 8   heart_rate_mean       7483 non-null   float64\n",
      " 9   sbp_min               7473 non-null   float64\n",
      " 10  sbp_max               7473 non-null   float64\n",
      " 11  sbp_mean              7473 non-null   float64\n",
      " 12  dbp_min               7472 non-null   float64\n",
      " 13  dbp_max               7472 non-null   float64\n",
      " 14  dbp_mean              7472 non-null   float64\n",
      " 15  mbp_min               7472 non-null   float64\n",
      " 16  mbp_max               7472 non-null   float64\n",
      " 17  mbp_mean              7472 non-null   float64\n",
      " 18  resp_rate_min         7477 non-null   float64\n",
      " 19  resp_rate_max         7477 non-null   float64\n",
      " 20  resp_rate_mean        7477 non-null   float64\n",
      " 21  temperature_min       7436 non-null   float64\n",
      " 22  temperature_max       7436 non-null   float64\n",
      " 23  temperature_mean      7436 non-null   float64\n",
      " 24  spo2_min              7475 non-null   float64\n",
      " 25  spo2_max              7475 non-null   float64\n",
      " 26  spo2_mean             7475 non-null   float64\n",
      " 27  hematocrit_min        7181 non-null   float64\n",
      " 28  hematocrit_max        7181 non-null   float64\n",
      " 29  hemoglobin_min        7176 non-null   float64\n",
      " 30  hemoglobin_max        7176 non-null   float64\n",
      " 31  platelet_min          7176 non-null   float64\n",
      " 32  platelet_max          7176 non-null   float64\n",
      " 33  wbc_min               7178 non-null   float64\n",
      " 34  wbc_max               7178 non-null   float64\n",
      " 35  aniongap_min          7230 non-null   float64\n",
      " 36  aniongap_max          7230 non-null   float64\n",
      " 37  bicarbonate_min       7233 non-null   float64\n",
      " 38  bicarbonate_max       7233 non-null   float64\n",
      " 39  bun_min               7229 non-null   float64\n",
      " 40  bun_max               7229 non-null   float64\n",
      " 41  calcium_min           7076 non-null   float64\n",
      " 42  calcium_max           7076 non-null   float64\n",
      " 43  chloride_min          7235 non-null   float64\n",
      " 44  chloride_max          7235 non-null   float64\n",
      " 45  creatinine_min        7227 non-null   float64\n",
      " 46  creatinine_max        7227 non-null   float64\n",
      " 47  glucose_min           7226 non-null   float64\n",
      " 48  glucose_max           7226 non-null   float64\n",
      " 49  sodium_min            7241 non-null   float64\n",
      " 50  sodium_max            7241 non-null   float64\n",
      " 51  potassium_min         7235 non-null   float64\n",
      " 52  potassium_max         7235 non-null   float64\n",
      " 53  dopamine              7511 non-null   int64  \n",
      " 54  epinephrine           7511 non-null   int64  \n",
      " 55  norepinephrine        7511 non-null   int64  \n",
      " 56  phenylephrine         7511 non-null   int64  \n",
      " 57  vasopressin           7511 non-null   int64  \n",
      " 58  dobutamine            7511 non-null   int64  \n",
      " 59  milrinone             7511 non-null   int64  \n",
      " 60  Cefalosporine         7511 non-null   float64\n",
      " 61  Penicillin            7511 non-null   float64\n",
      " 62  Macrolide             7511 non-null   float64\n",
      " 63  Meropenem             7511 non-null   float64\n",
      " 64  Metronidazole         7511 non-null   float64\n",
      " 65  Quinolone             7511 non-null   float64\n",
      " 66  Vancomycin            7511 non-null   float64\n",
      " 67  gcs_min               7479 non-null   float64\n",
      " 68  gcs_motor             7452 non-null   float64\n",
      " 69  gcs_verbal            7454 non-null   float64\n",
      " 70  gcs_eyes              7466 non-null   float64\n",
      " 71  urineoutput           6995 non-null   float64\n",
      " 72  sofa                  7511 non-null   int64  \n",
      "dtypes: float64(60), int64(13)\n",
      "memory usage: 4.2 MB\n",
      "None\n"
     ]
    }
   ],
   "source": [
    "# Check for columns that contain only 0 values\n",
    "columns_with_zeros = merged_df.columns[(merged_df == 0).all()]\n",
    "print(columns_with_zeros)\n",
    "\n",
    "# Drop the columns that contain only zeros\n",
    "merged_df = merged_df.drop(columns=columns_with_zeros)\n",
    "print(merged_df.info())"
   ]
  },
  {
   "cell_type": "code",
   "execution_count": 50,
   "metadata": {},
   "outputs": [],
   "source": [
    "merged_df.to_csv('datapre/mimic/conflag_mimic_24_48.csv', index=False)"
   ]
  },
  {
   "cell_type": "code",
   "execution_count": 51,
   "metadata": {},
   "outputs": [
    {
     "name": "stdout",
     "output_type": "stream",
     "text": [
      "<class 'pandas.core.frame.DataFrame'>\n",
      "RangeIndex: 7511 entries, 0 to 7510\n",
      "Data columns (total 71 columns):\n",
      " #   Column            Non-Null Count  Dtype  \n",
      "---  ------            --------------  -----  \n",
      " 0   age               7511 non-null   int64  \n",
      " 1   sex               7511 non-null   int64  \n",
      " 2   race              7511 non-null   int64  \n",
      " 3   los_icu           7511 non-null   float64\n",
      " 4   heart_rate_min    7483 non-null   float64\n",
      " 5   heart_rate_max    7483 non-null   float64\n",
      " 6   heart_rate_mean   7483 non-null   float64\n",
      " 7   sbp_min           7473 non-null   float64\n",
      " 8   sbp_max           7473 non-null   float64\n",
      " 9   sbp_mean          7473 non-null   float64\n",
      " 10  dbp_min           7472 non-null   float64\n",
      " 11  dbp_max           7472 non-null   float64\n",
      " 12  dbp_mean          7472 non-null   float64\n",
      " 13  mbp_min           7472 non-null   float64\n",
      " 14  mbp_max           7472 non-null   float64\n",
      " 15  mbp_mean          7472 non-null   float64\n",
      " 16  resp_rate_min     7477 non-null   float64\n",
      " 17  resp_rate_max     7477 non-null   float64\n",
      " 18  resp_rate_mean    7477 non-null   float64\n",
      " 19  temperature_min   7436 non-null   float64\n",
      " 20  temperature_max   7436 non-null   float64\n",
      " 21  temperature_mean  7436 non-null   float64\n",
      " 22  spo2_min          7475 non-null   float64\n",
      " 23  spo2_max          7475 non-null   float64\n",
      " 24  spo2_mean         7475 non-null   float64\n",
      " 25  hematocrit_min    7181 non-null   float64\n",
      " 26  hematocrit_max    7181 non-null   float64\n",
      " 27  hemoglobin_min    7176 non-null   float64\n",
      " 28  hemoglobin_max    7176 non-null   float64\n",
      " 29  platelet_min      7176 non-null   float64\n",
      " 30  platelet_max      7176 non-null   float64\n",
      " 31  wbc_min           7178 non-null   float64\n",
      " 32  wbc_max           7178 non-null   float64\n",
      " 33  aniongap_min      7230 non-null   float64\n",
      " 34  aniongap_max      7230 non-null   float64\n",
      " 35  bicarbonate_min   7233 non-null   float64\n",
      " 36  bicarbonate_max   7233 non-null   float64\n",
      " 37  bun_min           7229 non-null   float64\n",
      " 38  bun_max           7229 non-null   float64\n",
      " 39  calcium_min       7076 non-null   float64\n",
      " 40  calcium_max       7076 non-null   float64\n",
      " 41  chloride_min      7235 non-null   float64\n",
      " 42  chloride_max      7235 non-null   float64\n",
      " 43  creatinine_min    7227 non-null   float64\n",
      " 44  creatinine_max    7227 non-null   float64\n",
      " 45  glucose_min       7226 non-null   float64\n",
      " 46  glucose_max       7226 non-null   float64\n",
      " 47  sodium_min        7241 non-null   float64\n",
      " 48  sodium_max        7241 non-null   float64\n",
      " 49  potassium_min     7235 non-null   float64\n",
      " 50  potassium_max     7235 non-null   float64\n",
      " 51  dopamine          7511 non-null   int64  \n",
      " 52  epinephrine       7511 non-null   int64  \n",
      " 53  norepinephrine    7511 non-null   int64  \n",
      " 54  phenylephrine     7511 non-null   int64  \n",
      " 55  vasopressin       7511 non-null   int64  \n",
      " 56  dobutamine        7511 non-null   int64  \n",
      " 57  milrinone         7511 non-null   int64  \n",
      " 58  Cefalosporine     7511 non-null   float64\n",
      " 59  Penicillin        7511 non-null   float64\n",
      " 60  Macrolide         7511 non-null   float64\n",
      " 61  Meropenem         7511 non-null   float64\n",
      " 62  Metronidazole     7511 non-null   float64\n",
      " 63  Quinolone         7511 non-null   float64\n",
      " 64  Vancomycin        7511 non-null   float64\n",
      " 65  gcs_min           7479 non-null   float64\n",
      " 66  gcs_motor         7452 non-null   float64\n",
      " 67  gcs_verbal        7454 non-null   float64\n",
      " 68  gcs_eyes          7466 non-null   float64\n",
      " 69  urineoutput       6995 non-null   float64\n",
      " 70  sofa              7511 non-null   int64  \n",
      "dtypes: float64(60), int64(11)\n",
      "memory usage: 4.1 MB\n",
      "None\n"
     ]
    }
   ],
   "source": [
    "merged_df = merged_df.drop(columns=['stay_id', 'hospital_expire_flag'])\n",
    "print(merged_df.info())"
   ]
  },
  {
   "cell_type": "code",
   "execution_count": 52,
   "metadata": {},
   "outputs": [],
   "source": [
    "merged_df.to_csv('datapre/mimic/sinflag_mimic_24_48.csv', index=False)"
   ]
  }
 ],
 "metadata": {
  "kernelspec": {
   "display_name": "Python 3",
   "language": "python",
   "name": "python3"
  },
  "language_info": {
   "codemirror_mode": {
    "name": "ipython",
    "version": 3
   },
   "file_extension": ".py",
   "mimetype": "text/x-python",
   "name": "python",
   "nbconvert_exporter": "python",
   "pygments_lexer": "ipython3",
   "version": "3.12.4"
  }
 },
 "nbformat": 4,
 "nbformat_minor": 2
}
